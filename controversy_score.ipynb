{
 "cells": [
  {
   "cell_type": "code",
   "execution_count": 14,
   "metadata": {
    "collapsed": true
   },
   "outputs": [],
   "source": [
    "%matplotlib inline\n",
    "import pandas as pd\n",
    "import networkx as nx\n",
    "import ujson as json\n",
    "import metis\n",
    "import numpy as np\n",
    "import random\n",
    "from matplotlib import pyplot as plt\n",
    "from pprint import pprint\n",
    "from collections import Counter"
   ]
  },
  {
   "cell_type": "code",
   "execution_count": 21,
   "metadata": {
    "collapsed": true
   },
   "outputs": [],
   "source": [
    "dataset=\"ukraine\""
   ]
  },
  {
   "cell_type": "code",
   "execution_count": 22,
   "metadata": {
    "collapsed": true
   },
   "outputs": [],
   "source": [
    "g = nx.read_gpickle('data/{}.pkl'.format(dataset))"
   ]
  },
  {
   "cell_type": "code",
   "execution_count": 23,
   "metadata": {
    "collapsed": false
   },
   "outputs": [
    {
     "name": "stdout",
     "output_type": "stream",
     "text": [
      "56264\n"
     ]
    }
   ],
   "source": [
    "print(g.number_of_nodes())"
   ]
  },
  {
   "cell_type": "code",
   "execution_count": 24,
   "metadata": {
    "collapsed": true
   },
   "outputs": [],
   "source": [
    "def populate_r_and_c(g, pr, target_nodes, k):\n",
    "    \"\"\"\n",
    "    g: graph\n",
    "    pr: pagerank scores (dict)\n",
    "    targetr_nodes: list of nodes to consider\n",
    "    k: number of highest degree nodes to take\n",
    "    \n",
    "    return:\n",
    "    r: page rank score\n",
    "    c: node importance on target_nodes in terms of\n",
    "    \"\"\"\n",
    "    r = np.zeros(g.number_of_nodes())    \n",
    "    node2id = {n: i for i, n in enumerate(g.nodes_iter())}\n",
    "    for n in g.nodes_iter():\n",
    "        r[node2id[n]] = pr[n]\n",
    "    \n",
    "    # take highest degree nodes\n",
    "    top_nodes = sorted(target_nodes,\n",
    "                       key=lambda n: g.degree(n),\n",
    "                       reverse=True)[:k]\n",
    "    c = np.zeros(g.number_of_nodes())\n",
    "    for n in top_nodes:\n",
    "        c[node2id[n]] = 1\n",
    "    return r, c\n",
    "    "
   ]
  },
  {
   "cell_type": "code",
   "execution_count": 25,
   "metadata": {
    "collapsed": false
   },
   "outputs": [],
   "source": [
    "def controversy_score(g, top_percent=0.001):\n",
    "    \"\"\"consider only two sides only\n",
    "    top_percent: percentage of high degree nodes to consider for the c vector \n",
    "    \"\"\"\n",
    "    k = int(g.number_of_nodes() * top_percent)\n",
    "    assert k > 0\n",
    "    print('k={}'.format(k))\n",
    "    cuts, parts = metis.part_graph(g)\n",
    "    aux = lambda p, target: int(target == p)\n",
    "    \n",
    "    # personalization vector\n",
    "    part_sizes = Counter(parts)\n",
    "    e_0 = {n: aux(p, 0) / part_sizes[0] for n, p in zip(g.nodes(), parts)}\n",
    "    e_1 = {n: aux(p, 1) / part_sizes[1] for n, p in zip(g.nodes(), parts)}\n",
    "\n",
    "    # pagerank scores\n",
    "    pr0 = nx.pagerank(g, alpha=0.85, personalization=e_0, dangling=e_0, max_iter=10000)\n",
    "    pr1 = nx.pagerank(g, alpha=0.85, personalization=e_1, dangling=e_1, max_iter=10000)\n",
    "\n",
    "    # nodes at two sides\n",
    "    nodes0 = [n for n, p in zip(g.nodes(), parts) if p == 0]\n",
    "    nodes1 = [n for n, p in zip(g.nodes(), parts) if p == 1]\n",
    "\n",
    "    r0, c0 = populate_r_and_c(g, pr0, nodes0, k)\n",
    "    r1, c1 = populate_r_and_c(g, pr1, nodes1, k)\n",
    "    \n",
    "    r_list = [r0, r1]\n",
    "    c_list = [c0, c1]\n",
    "    rwc = 0\n",
    "    k = len(r_list)\n",
    "    for i, r in enumerate(r_list):\n",
    "        for j, c in enumerate(c_list):\n",
    "            prod = np.sum(r * c)\n",
    "            # print(prod, prod * part_sizes[i])\n",
    "            if i == j:\n",
    "                rwc += (prod * part_sizes[i])\n",
    "            else:\n",
    "                rwc -= (prod * part_sizes[i])\n",
    "    rwc /= sum(part_sizes.values())\n",
    "    return rwc"
   ]
  },
  {
   "cell_type": "code",
   "execution_count": 26,
   "metadata": {
    "collapsed": false
   },
   "outputs": [
    {
     "name": "stdout",
     "output_type": "stream",
     "text": [
      "k=56\n",
      "0.122935859636\n"
     ]
    }
   ],
   "source": [
    "print(controversy_score(g))"
   ]
  },
  {
   "cell_type": "code",
   "execution_count": null,
   "metadata": {
    "collapsed": true
   },
   "outputs": [],
   "source": [
    "from rwc import contro"
   ]
  }
 ],
 "metadata": {
  "kernelspec": {
   "display_name": "Python 3",
   "language": "python",
   "name": "python3"
  },
  "language_info": {
   "codemirror_mode": {
    "name": "ipython",
    "version": 3
   },
   "file_extension": ".py",
   "mimetype": "text/x-python",
   "name": "python",
   "nbconvert_exporter": "python",
   "pygments_lexer": "ipython3",
   "version": "3.5.2"
  }
 },
 "nbformat": 4,
 "nbformat_minor": 0
}
