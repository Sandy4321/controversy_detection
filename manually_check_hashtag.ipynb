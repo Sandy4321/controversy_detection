{
 "cells": [
  {
   "cell_type": "code",
   "execution_count": 3,
   "metadata": {
    "collapsed": false
   },
   "outputs": [
    {
     "name": "stdout",
     "output_type": "stream",
     "text": [
      "The autoreload extension is already loaded. To reload it, use:\n",
      "  %reload_ext autoreload\n"
     ]
    }
   ],
   "source": [
    "%matplotlib inline\n",
    "%load_ext autoreload\n",
    "%autoreload 2\n",
    "\n",
    "\n",
    "import pandas as pd\n",
    "from simulation import run_simulation\n",
    "from datetime import timedelta"
   ]
  },
  {
   "cell_type": "code",
   "execution_count": 4,
   "metadata": {
    "collapsed": true
   },
   "outputs": [],
   "source": [
    "import networkx as nx\n",
    "import random\n",
    "import metis\n",
    "from collections import defaultdict\n",
    "from datetime import timedelta, datetime\n",
    "from tqdm import tqdm\n",
    "\n",
    "from rwc import controversy_score\n",
    "from util import tw_list, get_cut_ratio, add_edges, remove_edges\n",
    "from leopard import update_partition\n",
    "\n",
    "DEBUG = False\n",
    "\n",
    "\n",
    "# prevent pickling error in multiprocessing\n",
    "def defaultdict_using_list_func():\n",
    "    return defaultdict(list)\n",
    "\n",
    "\n",
    "def earlist_date_func():\n",
    "    return datetime(1970, 1, 1)"
   ]
  },
  {
   "cell_type": "code",
   "execution_count": 5,
   "metadata": {
    "collapsed": true
   },
   "outputs": [],
   "source": [
    "retweets = pd.read_pickle('data/july.pkl')\n",
    "text = pd.read_pickle('data/july_text.pkl')"
   ]
  },
  {
   "cell_type": "code",
   "execution_count": null,
   "metadata": {
    "collapsed": false
   },
   "outputs": [
    {
     "name": "stderr",
     "output_type": "stream",
     "text": [
      "116517it [00:52, 2361.07it/s]"
     ]
    }
   ],
   "source": [
    "incremental = True\n",
    "update_interval = timedelta(minutes=10)\n",
    "T_window = timedelta(minutes=6*60)\n",
    "top_node_percent=0.01\n",
    "\n",
    "result = run_simulation(retweets,\n",
    "                        T_window=T_window,\n",
    "                        head_n=5*1e5,\n",
    "                        incremental=True,\n",
    "                        update_interval=update_interval,\n",
    "                        top_node_percent=top_node_percent,\n",
    "                        top_k_computation_interval=timedelta(minutes=20))"
   ]
  },
  {
   "cell_type": "code",
   "execution_count": 15,
   "metadata": {
    "collapsed": false
   },
   "outputs": [
    {
     "name": "stdout",
     "output_type": "stream",
     "text": [
      "['VeranoMTV2016', 'ALDUBIYAMBukasNa', 'MGWV']\n"
     ]
    }
   ],
   "source": [
    "top_k_log = result[1]\n",
    "tags = list(set([i['tag'] for l in top_k_log for i in l['list']]))\n",
    "print(tags)"
   ]
  },
  {
   "cell_type": "code",
   "execution_count": 23,
   "metadata": {
    "collapsed": false
   },
   "outputs": [
    {
     "name": "stdout",
     "output_type": "stream",
     "text": [
      "[3515025553, 3309489938, 3403014073, 711215151433785344, 4311833712]\n",
      "[1127926933, 2466499093, 4848161419, 3313366232, 3853825394]\n"
     ]
    }
   ],
   "source": [
    "from util import build_graph_from_df\n",
    "t = tags[1]\n",
    "retweets_subset = retweets.head(int(1e5))\n",
    "sub_df = retweets_subset[retweets_subset['hashtag'] == t]\n",
    "\n",
    "\n",
    "g = build_graph_from_df(sub_df)\n",
    "pr = nx.pagerank(g)\n",
    "cuts, cluster_ids = metis.part_graph(g, 2)\n",
    "\n",
    "\n",
    "partition = defaultdict(list)\n",
    "for n, c in zip(g.nodes(), cluster_ids):\n",
    "    partition[c].append(n)\n",
    "\n",
    "topk0 = sorted(partition[0], key=lambda k: pr[k], reverse=True)[:5]\n",
    "topk1 = sorted(partition[1], key=lambda k: pr[k], reverse=True)[:5]\n",
    "print(topk0)\n",
    "print(topk1)\n",
    "\n",
    "def all_tweets_ids_by_users(df, users):\n",
    "    tweets = []\n",
    "    ids = set()\n",
    "    for u in users:\n",
    "        ids |= set(df[(df['retweetee'] == u) | (df['retweeter'] == u)]['message_id'].as_matrix().tolist())\n",
    "    return ids\n",
    "        \n",
    "top_user_tweets_0 = all_tweets_ids_by_users(sub_df, topk0)\n",
    "top_user_tweets_1 = all_tweets_ids_by_users(sub_df, topk1)"
   ]
  },
  {
   "cell_type": "code",
   "execution_count": 25,
   "metadata": {
    "collapsed": false
   },
   "outputs": [],
   "source": [
    "text0 = text.loc[top_user_tweets_0]['body'].tolist()\n",
    "text1 = text.loc[top_user_tweets_1]['body'].tolist()"
   ]
  },
  {
   "cell_type": "code",
   "execution_count": 26,
   "metadata": {
    "collapsed": false
   },
   "outputs": [],
   "source": [
    "text0, text1 = map(set, [text0, text1])"
   ]
  },
  {
   "cell_type": "code",
   "execution_count": 27,
   "metadata": {
    "collapsed": false
   },
   "outputs": [
    {
     "name": "stdout",
     "output_type": "stream",
     "text": [
      "----------\n",
      "RT @OFCALDubKoTo: EXCERPTS FROM THIS YEAR'S 100 MOST BEAUTIFUL STARS - MAINE &amp; ALDEN BEING ON TOP. RT &amp; SPREAD GV! #ALDUBIYAMBukasNa https:…\n",
      "----------\n",
      "RT @ALDENophileCLUB: Alden bakod level 10000: \n",
      "\n",
      "\"You can look, you can drool but let's make it clear... She's mine.\"\n",
      "\n",
      "#ALDUBIYAMBukasNa👊🏻 h…\n",
      "----------\n",
      "RT @AlDubBigBoyz: Never above you\n",
      "Never below you\n",
      "Always beside you\n",
      "@aldenrichards02 @mainedcm\n",
      "\n",
      "©papixure_ne\n",
      "#ALDUBIYAMBukasNa M https://t.…\n",
      "----------\n",
      "RT @ALDENophileCLUB: \"If this is not territorial, I don't know what it is.\"\n",
      "\n",
      "In between legs, hand on hand, hands on lap and arm on lap 😅🔥…\n",
      "----------\n",
      "RT @AlDubBigBoyz: U can discover more about a person in an hour of play thn in a year of conversation\n",
      "©papixure_ne\n",
      "#ALDUBIYAMBukasNa M http…\n"
     ]
    }
   ],
   "source": [
    "for t in random.sample(text0, 5):\n",
    "    print('-'*10)\n",
    "    print(t)\n"
   ]
  },
  {
   "cell_type": "code",
   "execution_count": 28,
   "metadata": {
    "collapsed": false
   },
   "outputs": [
    {
     "name": "stdout",
     "output_type": "stream",
     "text": [
      "----------\n",
      "RT @AlDubBigGirlz: Good morning 👋😙 \n",
      "Happy Tuesday everyJuan😄\n",
      "Have a great &amp; fantastic day coz #ALDUBIYAMBukasNa po yan😄 kakaexcite💞 \n",
      " 🍒 htt…\n",
      "----------\n",
      "RT @MAINEnatics_OFC: CUTIES! 😊 \n",
      "\n",
      "@mainedcm | © papixure_ne \n",
      "\n",
      "#ALDUBIYAMBukasNa https://t.co/ZrMvYvpsr4\n",
      "----------\n",
      "RT @ImBossingVic: ALDUB ARGUE: WHAT COULD BE THE POSSIBLE CAUSE\n",
      "\n",
      "CLICK HERE https://t.co/opbYQzSaTl\n",
      "\n",
      "#ALDUBIYAMBukasNa\n",
      "----------\n",
      "RT @ImBossingVic: VIRAL: LOLA NIDORA'S WORDS ARE LIKE A DOUBLE EDGED SWORD\n",
      "\n",
      "CLICK HERE\n",
      "https://t.co/I5nK5A6UV5\n",
      "\n",
      "#ALDUBIYAMBukasNa\n",
      "----------\n",
      "RT @ImBossingVic: BECAUSE OF ALDUB THE PHILIPPINE ENTERTAINMENT INDUSTRY IS HAVING A FACELIFT #ALDUBIYAMBukasNa\n"
     ]
    }
   ],
   "source": [
    "for t in random.sample(text1, 5):\n",
    "    print('-'*10)\n",
    "    print(t)\n"
   ]
  },
  {
   "cell_type": "code",
   "execution_count": 29,
   "metadata": {
    "collapsed": false,
    "scrolled": true
   },
   "outputs": [],
   "source": [
    "from rwc import controversy_score\n",
    "rwc, _ = controversy_score(g, node2cluster=dict(zip(g.nodes(), cluster_ids)), top_percent=0.01)"
   ]
  },
  {
   "cell_type": "code",
   "execution_count": 30,
   "metadata": {
    "collapsed": false
   },
   "outputs": [
    {
     "name": "stderr",
     "output_type": "stream",
     "text": [
      "100%|██████████| 100/100 [00:02<00:00, 33.02it/s]\n"
     ]
    },
    {
     "data": {
      "image/png": "[encoded data removed]",
      "text/plain": [
       "<matplotlib.figure.Figure at 0x7f64f77ab160>"
      ]
     },
     "metadata": {},
     "output_type": "display_data"
    }
   ],
   "source": [
    "from forceatlas import forceatlas2_layout\n",
    "from util import get_largest_connected_subgraph\n",
    "\n",
    "g = get_largest_connected_subgraph(g)\n",
    "_, cluster_ids = metis.part_graph(g, 2)\n",
    "pos = forceatlas2_layout(g, iterations=100)\n",
    "fig = nx.draw(g, pos=pos, with_label=False, node_color=cluster_ids, node_size=15, alpha=0.5)"
   ]
  }
 ],
 "metadata": {
  "kernelspec": {
   "display_name": "Python 3",
   "language": "python",
   "name": "python3"
  },
  "language_info": {
   "codemirror_mode": {
    "name": "ipython",
    "version": 3
   },
   "file_extension": ".py",
   "mimetype": "text/x-python",
   "name": "python",
   "nbconvert_exporter": "python",
   "pygments_lexer": "ipython3",
   "version": "3.5.2"
  }
 },
 "nbformat": 4,
 "nbformat_minor": 0
}
