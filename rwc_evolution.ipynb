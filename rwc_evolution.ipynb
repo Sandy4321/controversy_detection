{
 "cells": [
  {
   "cell_type": "code",
   "execution_count": 75,
   "metadata": {
    "collapsed": true
   },
   "outputs": [],
   "source": [
    "%matplotlib inline\n",
    "import networkx as nx\n",
    "import pandas as pd\n",
    "from matplotlib import pyplot as plt\n",
    "from datetime import datetime as dt, timedelta as td\n",
    "from tqdm import tqdm\n",
    "from rwc import controversy_score\n",
    "from util import build_graph_from_df\n",
    "from itertools import takewhile, count"
   ]
  },
  {
   "cell_type": "code",
   "execution_count": 76,
   "metadata": {
    "collapsed": true
   },
   "outputs": [],
   "source": [
    "dataset=\"beefban\""
   ]
  },
  {
   "cell_type": "code",
   "execution_count": 77,
   "metadata": {
    "collapsed": false
   },
   "outputs": [],
   "source": [
    "g = nx.read_gpickle('data/{}.gpkl'.format(dataset))\n",
    "df = pd.read_pickle('data/{}.pkl'.format(dataset))\n",
    "df['created_at'] = list(map(dt.fromtimestamp, df['created_at']))\n",
    "df.set_index(['created_at'], inplace=True)"
   ]
  },
  {
   "cell_type": "code",
   "execution_count": 78,
   "metadata": {
    "collapsed": false
   },
   "outputs": [],
   "source": [
    "times = df.index"
   ]
  },
  {
   "cell_type": "code",
   "execution_count": 79,
   "metadata": {
    "collapsed": true
   },
   "outputs": [],
   "source": [
    "timediff = times.max() - times.min()"
   ]
  },
  {
   "cell_type": "code",
   "execution_count": 80,
   "metadata": {
    "collapsed": false
   },
   "outputs": [
    {
     "name": "stdout",
     "output_type": "stream",
     "text": [
      "time difference: 1 days 20:23:17\n"
     ]
    }
   ],
   "source": [
    "print('time difference: {}'.format(timediff))"
   ]
  },
  {
   "cell_type": "code",
   "execution_count": 81,
   "metadata": {
    "collapsed": false
   },
   "outputs": [],
   "source": [
    "time_step = td(hours=2)\n",
    "time_window = td(hours=5)"
   ]
  },
  {
   "cell_type": "code",
   "execution_count": null,
   "metadata": {
    "collapsed": false
   },
   "outputs": [
    {
     "name": "stdout",
     "output_type": "stream",
     "text": [
      "[0, 1, 2, 3, 4, 5, 6, 7, 8, 9, 10, 11, 12, 13, 14, 15, 16, 17, 18, 19]\n"
     ]
    }
   ],
   "source": [
    "time_zero = times.min()\n",
    "multiples = list(takewhile(lambda i: (time_zero + i * time_step + time_window) <= times.max(), count(0)))\n",
    "print(multiples)"
   ]
  },
  {
   "cell_type": "code",
   "execution_count": null,
   "metadata": {
    "collapsed": false
   },
   "outputs": [
    {
     "name": "stderr",
     "output_type": "stream",
     "text": [
      "\n",
      "  0%|          | 0/20 [00:00<?, ?it/s]\u001b[A\n",
      "Exception in thread Thread-6:\n",
      "Traceback (most recent call last):\n",
      "  File \"/usr/lib/python3.5/threading.py\", line 914, in _bootstrap_inner\n",
      "    self.run()\n",
      "  File \"/home/cloud-user/code/controversy_detection/venv/lib/python3.5/site-packages/tqdm/_tqdm.py\", line 102, in run\n",
      "    for instance in self.tqdm_cls._instances:\n",
      "  File \"/usr/lib/python3.5/_weakrefset.py\", line 60, in __iter__\n",
      "    for itemref in self.data:\n",
      "RuntimeError: Set changed size during iteration\n",
      "\n",
      " 80%|████████  | 16/20 [00:53<00:10,  2.68s/it]"
     ]
    }
   ],
   "source": [
    "rwc_list = []\n",
    "for i in tqdm(multiples):\n",
    "    start_time = time_zero + i * time_step\n",
    "    end_time = start_time + time_window\n",
    "    sub_df = df[(df.index >= start_time) & (df.index < end_time)]\n",
    "    sub_g = build_graph_from_df(sub_df)\n",
    "    try:\n",
    "        rwc_list.append(controversy_score(sub_g))\n",
    "    except ValueError as e:\n",
    "        print('For {} - {}'.format(current_time, current_time + time_step))\n",
    "        print(str(e))\n",
    "    current_time += time_step"
   ]
  },
  {
   "cell_type": "code",
   "execution_count": null,
   "metadata": {
    "collapsed": false
   },
   "outputs": [],
   "source": [
    "pd.Series(rwc_list).plot(style='-o',\n",
    "                         title='rwc vs time (step size: {} hr, time window: {} hr)'.format(time_step,\n",
    "                                                                                           time_window))\n",
    "plt.savefig('figs/{}-rwc-vs-time.png'.format(dataset))"
   ]
  },
  {
   "cell_type": "code",
   "execution_count": null,
   "metadata": {
    "collapsed": false
   },
   "outputs": [],
   "source": [
    "pd.Series(df.index).hist(bins=50)\n",
    "plt.savefig('figs/{}-volume.png'.format(dataset))"
   ]
  }
 ],
 "metadata": {
  "kernelspec": {
   "display_name": "Python 3",
   "language": "python",
   "name": "python3"
  },
  "language_info": {
   "codemirror_mode": {
    "name": "ipython",
    "version": 3
   },
   "file_extension": ".py",
   "mimetype": "text/x-python",
   "name": "python",
   "nbconvert_exporter": "python",
   "pygments_lexer": "ipython3",
   "version": "3.5.2"
  }
 },
 "nbformat": 4,
 "nbformat_minor": 0
}
