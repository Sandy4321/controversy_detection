{
 "cells": [
  {
   "cell_type": "code",
   "execution_count": 91,
   "metadata": {
    "collapsed": false
   },
   "outputs": [],
   "source": [
    "%matplotlib inline\n",
    "import pandas as pd\n",
    "import networkx as nx\n",
    "import ujson as json\n",
    "import metis\n",
    "import random\n",
    "from matplotlib import pyplot as plt\n",
    "from pprint import pprint"
   ]
  },
  {
   "cell_type": "code",
   "execution_count": 92,
   "metadata": {
    "collapsed": true
   },
   "outputs": [],
   "source": [
    "dataset=\"pokemongo\""
   ]
  },
  {
   "cell_type": "code",
   "execution_count": 93,
   "metadata": {
    "collapsed": true
   },
   "outputs": [],
   "source": [
    "def build_retweet_graph(raw_file_path):\n",
    "    g = nx.Graph()\n",
    "    with open(raw_file_path, 'r') as f:\n",
    "        for l in f:            \n",
    "            t = json.loads(l)    \n",
    "            if t['rtds_tweet']['retweet_type'] == 1:\n",
    "                g.add_edge(t['rtds_tweet']['user_id'],\n",
    "                           t['rtds_tweet']['retweeted_status_user_id'],\n",
    "                           created_at=t['rtds_tweet']['created_at_timestamp'])\n",
    "    return g"
   ]
  },
  {
   "cell_type": "code",
   "execution_count": 94,
   "metadata": {
    "collapsed": true
   },
   "outputs": [],
   "source": [
    "def get_largest_connected_subgraph(g):\n",
    "    ccs = nx.connected_components(g)\n",
    "    nodes = max(ccs, key=len)\n",
    "    return g.subgraph(nodes)\n"
   ]
  },
  {
   "cell_type": "code",
   "execution_count": 95,
   "metadata": {
    "collapsed": false
   },
   "outputs": [],
   "source": [
    "#  g = build_retweet_graph('data/tweets_{}.txt'.format(dataset))\n",
    "g = nx.read_gpickle('data/{}.pkl'.format(dataset))"
   ]
  },
  {
   "cell_type": "code",
   "execution_count": 96,
   "metadata": {
    "collapsed": false
   },
   "outputs": [],
   "source": [
    "if False:\n",
    "    nx.write_gpickle(g, 'data/{}.pkl'.format(dataset))\n",
    "if True:    \n",
    "    nx.write_graphml(g, 'output/{}.graphml'.format(dataset))"
   ]
  },
  {
   "cell_type": "code",
   "execution_count": 97,
   "metadata": {
    "collapsed": false
   },
   "outputs": [
    {
     "name": "stdout",
     "output_type": "stream",
     "text": [
      "4699 3700\n",
      "1229 1232\n"
     ]
    }
   ],
   "source": [
    "cc_g = get_largest_connected_subgraph(g)\n",
    "print(g.number_of_nodes(), g.number_of_edges())\n",
    "print(cc_g.number_of_nodes(), cc_g.number_of_edges())\n",
    "g = cc_g"
   ]
  },
  {
   "cell_type": "code",
   "execution_count": 98,
   "metadata": {
    "collapsed": false
   },
   "outputs": [],
   "source": [
    "# take the core sub graph\n",
    "sample_size = 2500\n",
    "if g.number_of_nodes() > sample_size:    \n",
    "    nodes = [n for n in g.nodes() if g.degree(n) > 1]  # prevent the dangling nodes from spreading out in the figure\n",
    "    print(len(nodes))\n",
    "    if len(nodes) > sample_size:\n",
    "        nodes = random.sample(nodes, sample_size)\n",
    "    g = nx.subgraph(g, nodes)\n",
    "    g = get_largest_connected_subgraph(g)"
   ]
  },
  {
   "cell_type": "code",
   "execution_count": 99,
   "metadata": {
    "collapsed": false
   },
   "outputs": [
    {
     "name": "stdout",
     "output_type": "stream",
     "text": [
      "1229\n",
      "1232\n"
     ]
    }
   ],
   "source": [
    "print(g.number_of_nodes())\n",
    "print(g.number_of_edges())"
   ]
  },
  {
   "cell_type": "code",
   "execution_count": 100,
   "metadata": {
    "collapsed": false
   },
   "outputs": [
    {
     "name": "stdout",
     "output_type": "stream",
     "text": [
      "2\n"
     ]
    }
   ],
   "source": [
    "cuts, parts = metis.part_graph(g)\n",
    "print(cuts)"
   ]
  },
  {
   "cell_type": "code",
   "execution_count": 101,
   "metadata": {
    "collapsed": false
   },
   "outputs": [],
   "source": [
    "from forceatlas import forceatlas2_layout"
   ]
  },
  {
   "cell_type": "code",
   "execution_count": 102,
   "metadata": {
    "collapsed": false
   },
   "outputs": [
    {
     "name": "stderr",
     "output_type": "stream",
     "text": [
      "100%|██████████| 100/100 [00:22<00:00,  4.41it/s]\n"
     ]
    }
   ],
   "source": [
    "pos = forceatlas2_layout(g, iterations=100)"
   ]
  },
  {
   "cell_type": "code",
   "execution_count": 103,
   "metadata": {
    "collapsed": false
   },
   "outputs": [
    {
     "data": {
      "image/png": "[encoded data removed]",
      "text/plain": [
       "<matplotlib.figure.Figure at 0x7f1af6983c50>"
      ]
     },
     "metadata": {},
     "output_type": "display_data"
    }
   ],
   "source": [
    "fig = nx.draw(g, pos=pos, with_label=False, node_color=parts, node_size=15, alpha=0.5)"
   ]
  },
  {
   "cell_type": "code",
   "execution_count": 104,
   "metadata": {
    "collapsed": false,
    "scrolled": false
   },
   "outputs": [
    {
     "data": {
      "text/plain": [
       "<matplotlib.figure.Figure at 0x7f1af69837b8>"
      ]
     },
     "metadata": {},
     "output_type": "display_data"
    }
   ],
   "source": [
    "fig = plt.gcf()\n",
    "fig.savefig('figs/{}.pdf'.format(dataset))"
   ]
  },
  {
   "cell_type": "code",
   "execution_count": 105,
   "metadata": {
    "collapsed": false
   },
   "outputs": [],
   "source": [
    "# g = nx.barabasi_albert_graph(50000, 3)\n",
    "# nx.write_gpickle(g, 'data/barabasi.pkl')"
   ]
  }
 ],
 "metadata": {
  "kernelspec": {
   "display_name": "Python 3",
   "language": "python",
   "name": "python3"
  },
  "language_info": {
   "codemirror_mode": {
    "name": "ipython",
    "version": 3
   },
   "file_extension": ".py",
   "mimetype": "text/x-python",
   "name": "python",
   "nbconvert_exporter": "python",
   "pygments_lexer": "ipython3",
   "version": "3.5.2"
  }
 },
 "nbformat": 4,
 "nbformat_minor": 0
}
