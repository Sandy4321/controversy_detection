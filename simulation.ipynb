{
 "cells": [
  {
   "cell_type": "code",
   "execution_count": 1,
   "metadata": {
    "collapsed": false
   },
   "outputs": [],
   "source": [
    "%matplotlib inline\n",
    "import networkx as nx\n",
    "import metis\n",
    "import pandas as pd\n",
    "from collections import defaultdict\n",
    "from datetime import timedelta, datetime\n",
    "from tqdm import tqdm\n",
    "\n",
    "from rwc import controversy_score\n",
    "from util import tw_list, get_cut_ratio\n",
    "from leopard import update_partition\n"
   ]
  },
  {
   "cell_type": "code",
   "execution_count": 2,
   "metadata": {
    "collapsed": true
   },
   "outputs": [],
   "source": [
    "retweets = pd.read_pickle('data/july.pkl')"
   ]
  },
  {
   "cell_type": "code",
   "execution_count": 3,
   "metadata": {
    "collapsed": true
   },
   "outputs": [],
   "source": [
    "retweets.sort_values(by=['created_at'], axis='index', inplace=True)"
   ]
  },
  {
   "cell_type": "code",
   "execution_count": 4,
   "metadata": {
    "collapsed": false
   },
   "outputs": [],
   "source": [
    "debug = False\n",
    "top_edge_percent=0.01\n",
    "\n"
   ]
  },
  {
   "cell_type": "code",
   "execution_count": 15,
   "metadata": {
    "collapsed": false
   },
   "outputs": [
    {
     "name": "stderr",
     "output_type": "stream",
     "text": [
      "\n",
      "0it [00:00, ?it/s]\u001b[A\n",
      "1it [00:00,  1.20it/s]\u001b[A\n",
      "134it [00:01,  1.72it/s]\u001b[A\n",
      "388it [00:01,  2.45it/s]\u001b[A\n",
      "644it [00:01,  3.51it/s]\u001b[A\n",
      "901it [00:01,  5.00it/s]\u001b[A\n",
      "1149it [00:01,  7.14it/s]\u001b[A"
     ]
    },
    {
     "name": "stdout",
     "output_type": "stream",
     "text": [
      "#hashtags 491\n",
      "now 2016-07-03 06:35:02.665000\n"
     ]
    },
    {
     "name": "stderr",
     "output_type": "stream",
     "text": [
      "\n",
      "1395it [00:01, 10.19it/s]\u001b[A\n",
      "1607it [00:01, 14.52it/s]\u001b[A\n",
      "1803it [00:01, 20.66it/s]\u001b[A\n",
      "1989it [00:01, 29.38it/s]\u001b[A\n",
      "2175it [00:01, 41.67it/s]\u001b[A\n",
      "2357it [00:02, 58.53it/s]\u001b[A\n",
      "2516it [00:02, 82.10it/s]\u001b[A\n",
      "2668it [00:02, 114.16it/s]\u001b[A\n",
      "2813it [00:02, 156.46it/s]\u001b[A\n",
      "2950it [00:02, 209.73it/s]\u001b[A\n",
      "3118it [00:02, 281.68it/s]\u001b[A\n",
      "3311it [00:02, 378.67it/s]\u001b[A\n",
      "3461it [00:03, 472.29it/s]\u001b[A\n",
      "3599it [00:03, 562.17it/s]\u001b[A\n",
      "3726it [00:03, 642.52it/s]\u001b[A\n",
      "3844it [00:03, 655.38it/s]\u001b[A\n",
      "3950it [00:03, 613.32it/s]\u001b[A\n",
      "4084it [00:03, 699.76it/s]\u001b[A\n",
      "4234it [00:04, 671.45it/s]\u001b[A\n",
      "4382it [00:04, 681.23it/s]\u001b[A\n",
      "4508it [00:04, 659.30it/s]\u001b[A\n",
      "4664it [00:04, 587.69it/s]\u001b[A\n",
      "4783it [00:04, 645.38it/s]\u001b[A\n",
      "4914it [00:05, 759.76it/s]\u001b[A\n",
      "5090it [00:05, 815.93it/s]\u001b[A\n",
      "5225it [00:05, 754.54it/s]\u001b[A\n",
      "5355it [00:05, 705.25it/s]\u001b[A\n",
      "5472it [00:05, 686.20it/s]\u001b[A\n",
      "5615it [00:05, 705.60it/s]\u001b[A\n",
      "5756it [00:06, 721.31it/s]\u001b[A\n",
      "5870it [00:06, 751.33it/s]\u001b[A\n",
      "5979it [00:06, 622.54it/s]\u001b[A\n",
      "6119it [00:06, 649.68it/s]\u001b[A\n",
      "6259it [00:07, 590.80it/s]\u001b[A\n",
      "6394it [00:07, 538.98it/s]\u001b[A\n",
      "6540it [00:07, 465.07it/s]\u001b[A\n",
      "6665it [00:08, 433.62it/s]\n",
      "Exception in thread Thread-5:\n",
      "Traceback (most recent call last):\n",
      "  File \"/usr/lib/python3.5/threading.py\", line 914, in _bootstrap_inner\n",
      "    self.run()\n",
      "  File \"/home/cloud-user/code/controversy_detection/venv/lib/python3.5/site-packages/tqdm/_tqdm.py\", line 102, in run\n",
      "    for instance in self.tqdm_cls._instances:\n",
      "  File \"/usr/lib/python3.5/_weakrefset.py\", line 60, in __iter__\n",
      "    for itemref in self.data:\n",
      "RuntimeError: Set changed size during iteration\n",
      "\n",
      "8508it [00:11, 603.83it/s]"
     ]
    },
    {
     "name": "stdout",
     "output_type": "stream",
     "text": [
      "#hashtags 3562\n",
      "now 2016-07-03 07:30:02.659000\n"
     ]
    },
    {
     "name": "stderr",
     "output_type": "stream",
     "text": [
      "10451it [00:15, 506.18it/s]"
     ]
    },
    {
     "name": "stdout",
     "output_type": "stream",
     "text": [
      "#hashtags 4209\n",
      "now 2016-07-03 07:44:39.664000\n"
     ]
    },
    {
     "name": "stderr",
     "output_type": "stream",
     "text": [
      "15336it [00:27, 373.41it/s]"
     ]
    },
    {
     "name": "stdout",
     "output_type": "stream",
     "text": [
      "#hashtags 5829\n",
      "now 2016-07-03 08:19:07.658000\n"
     ]
    },
    {
     "name": "stderr",
     "output_type": "stream",
     "text": [
      "23457it [00:53, 264.09it/s]"
     ]
    },
    {
     "name": "stdout",
     "output_type": "stream",
     "text": [
      "#hashtags 7982\n",
      "now 2016-07-03 09:11:34.660000\n"
     ]
    },
    {
     "name": "stderr",
     "output_type": "stream",
     "text": [
      "27022it [01:06, 244.68it/s]"
     ]
    },
    {
     "name": "stdout",
     "output_type": "stream",
     "text": [
      "#hashtags 8918\n",
      "now 2016-07-03 09:38:21.666000\n"
     ]
    },
    {
     "name": "stderr",
     "output_type": "stream",
     "text": [
      "32199it [01:28, 210.11it/s]"
     ]
    },
    {
     "name": "stdout",
     "output_type": "stream",
     "text": [
      "#hashtags 10202\n",
      "now 2016-07-03 10:16:17.665000\n"
     ]
    },
    {
     "name": "stderr",
     "output_type": "stream",
     "text": [
      "35342it [01:42, 188.96it/s]"
     ]
    },
    {
     "name": "stdout",
     "output_type": "stream",
     "text": [
      "#hashtags 11027\n",
      "now 2016-07-03 10:41:00.665000\n"
     ]
    },
    {
     "name": "stderr",
     "output_type": "stream",
     "text": [
      "43374it [02:23, 163.67it/s]"
     ]
    },
    {
     "name": "stdout",
     "output_type": "stream",
     "text": [
      "#hashtags 13140\n",
      "now 2016-07-03 11:39:39.659000\n"
     ]
    },
    {
     "name": "stderr",
     "output_type": "stream",
     "text": [
      "44185it [02:28, 135.31it/s]"
     ]
    },
    {
     "name": "stdout",
     "output_type": "stream",
     "text": [
      "#hashtags 13323\n",
      "now 2016-07-03 11:44:44.666000\n"
     ]
    },
    {
     "name": "stderr",
     "output_type": "stream",
     "text": [
      "49786it [03:05, 126.69it/s]"
     ]
    },
    {
     "name": "stdout",
     "output_type": "stream",
     "text": [
      "#hashtags 14726\n",
      "now 2016-07-03 12:22:40.663000\n"
     ]
    },
    {
     "name": "stderr",
     "output_type": "stream",
     "text": [
      "51042it [03:14, 120.36it/s]"
     ]
    },
    {
     "name": "stdout",
     "output_type": "stream",
     "text": [
      "#hashtags 15043\n",
      "now 2016-07-03 12:31:05.659000\n"
     ]
    },
    {
     "name": "stderr",
     "output_type": "stream",
     "text": [
      "61758it [04:23, 168.17it/s]"
     ]
    },
    {
     "name": "stdout",
     "output_type": "stream",
     "text": [
      "#hashtags 17472\n",
      "now 2016-07-03 13:34:51.661000\n"
     ]
    },
    {
     "name": "stderr",
     "output_type": "stream",
     "text": [
      "\r",
      "61930it [04:24, 159.89it/s]"
     ]
    },
    {
     "name": "stdout",
     "output_type": "stream",
     "text": [
      "#hashtags 17501\n",
      "now 2016-07-03 13:35:34.666000\n"
     ]
    },
    {
     "name": "stderr",
     "output_type": "stream",
     "text": [
      "75841it [06:03, 141.91it/s]"
     ]
    },
    {
     "name": "stdout",
     "output_type": "stream",
     "text": [
      "#hashtags 20359\n",
      "now 2016-07-03 14:43:45.663000\n"
     ]
    },
    {
     "name": "stderr",
     "output_type": "stream",
     "text": [
      "76585it [06:08, 154.27it/s]"
     ]
    },
    {
     "name": "stdout",
     "output_type": "stream",
     "text": [
      "#hashtags 20459\n",
      "now 2016-07-03 14:46:25.659000\n"
     ]
    },
    {
     "name": "stderr",
     "output_type": "stream",
     "text": [
      "78206it [06:21, 121.37it/s]"
     ]
    },
    {
     "name": "stdout",
     "output_type": "stream",
     "text": [
      "#hashtags 20812\n",
      "now 2016-07-03 14:54:31.665000\n"
     ]
    },
    {
     "name": "stderr",
     "output_type": "stream",
     "text": [
      "86953it [07:33, 91.72it/s]"
     ]
    },
    {
     "name": "stdout",
     "output_type": "stream",
     "text": [
      "#hashtags 22373\n",
      "now 2016-07-03 15:32:16.657000\n"
     ]
    },
    {
     "name": "stderr",
     "output_type": "stream",
     "text": [
      "88607it [07:46, 122.46it/s]"
     ]
    },
    {
     "name": "stdout",
     "output_type": "stream",
     "text": [
      "#hashtags 22720\n",
      "now 2016-07-03 15:39:35.666000\n"
     ]
    },
    {
     "name": "stderr",
     "output_type": "stream",
     "text": [
      "97336it [09:00, 162.01it/s]"
     ]
    },
    {
     "name": "stdout",
     "output_type": "stream",
     "text": [
      "#hashtags 24301\n",
      "now 2016-07-03 16:15:25.666000\n"
     ]
    },
    {
     "name": "stderr",
     "output_type": "stream",
     "text": [
      "100000it [09:32, 174.65it/s]\n"
     ]
    }
   ],
   "source": [
    "tag2log = defaultdict(lambda: defaultdict(list))\n",
    "tag2g = defaultdict(nx.Graph)\n",
    "tag2edge_list = defaultdict(tw_list)\n",
    "tag2edges_rm = defaultdict(list)\n",
    "tag2edges_add = defaultdict(list)\n",
    "T_window = timedelta(minutes=5)\n",
    "\n",
    "update_interval = timedelta(minutes=1)\n",
    "last_updated_time = retweets.iloc[0]['created_at']\n",
    "\n",
    "for i, rt in tqdm(retweets.head(int(1e5)).iterrows()):\n",
    "    if i % 5000 == 0:\n",
    "        print('#hashtags {}'.format(len(tag2g)))\n",
    "        print('now {}'.format(rt['created_at']))\n",
    "        \n",
    "    hashtag = rt['hashtag']\n",
    "    g = tag2g[hashtag]  \n",
    "    edge_list = tag2edge_list[hashtag]\n",
    "    \n",
    "    u, v, now = rt['retweeter'], rt['retweetee'], rt['created_at']\n",
    "\n",
    "    tag2edges_add[hashtag].append((u, v))\n",
    "    \n",
    "    # remove expired edges by triggered hashtag or do it periodically?\n",
    "    earlist_time = now - T_window\n",
    "    edges_to_remove = edge_list.remove_before_time(earlist_time)\n",
    "    if edges_to_remove:\n",
    "        tag2edges_rm[hashtag] += edges_to_remove\n",
    "    \n",
    "    g.graph['updated'] = False\n",
    "\n",
    "    if now - last_updated_time > update_interval:\n",
    "        for h, g in tag2g.items():\n",
    "            def print_log():\n",
    "                print('calculating {}'.format(h))\n",
    "                print('add {} edges'.format(len(edges_to_add)))\n",
    "                print('rm {} edges'.format(len(edges_to_rm)))                \n",
    "                        \n",
    "            updated = False\n",
    "            if not g.graph['updated']:\n",
    "                # update\n",
    "                edges_to_add = tag2edges_add[h]\n",
    "                edges_to_rm = tag2edges_rm[h]\n",
    "\n",
    "                # empty it\n",
    "                tag2edges_add[h] = []\n",
    "                tag2edges_rm[h] = []\n",
    "                \n",
    "                pr_vects = g.graph.get('pagerank_vectors')\n",
    "                if not pr_vects:  # 1st time                    \n",
    "                    g.add_edges_from(edges_to_add)\n",
    "                    g.remove_edges_from(edges_to_rm)\n",
    "                    if g.number_of_nodes() > 100:  # only calculate RWC when the graph is big enough\n",
    "                        if debug:\n",
    "                            print_log()\n",
    "                        cuts, node_cluster_ids = metis.part_graph(g, 2)\n",
    "                        rwc, aux = controversy_score(g, node_cluster_ids, top_percent=top_edge_percent)\n",
    "                        updated = True\n",
    "                else:  # incremental\n",
    "                    if debug:\n",
    "                        print('updating')\n",
    "                        print_log()\n",
    "                    node_cluster_ids = g.graph['node_cluster_ids']\n",
    "                    node_cluster_ids = update_partition(g, node_cluster_ids,\n",
    "                                                        edges_to_add=edges_to_add,\n",
    "                                                        edges_to_remove=edges_to_rm,                                                         \n",
    "                                                        verbose=False)\n",
    "                    pr0 = {n: pr_vects['pr0'].get(n, 0) for n in g.nodes_iter()}\n",
    "                    pr1 = {n: pr_vects['pr1'].get(n, 0) for n in g.nodes_iter()}\n",
    "                    rwc, aux = controversy_score(g, node_cluster_ids,\n",
    "                                                 top_percent=top_edge_percent,\n",
    "                                                 nstart0=pr0,\n",
    "                                                 nstart1=pr1)\n",
    "                    updated = True\n",
    "                    \n",
    "                if updated:                    \n",
    "                    g.graph['node_cluster_ids'] = node_cluster_ids\n",
    "                    g.graph['pagerank_vectors'] = {'pr0': aux['pr0'], 'pr1': aux['pr1']}\n",
    "                    g.graph['rwc'] = rwc\n",
    "                    g.graph['updated'] = True\n",
    "\n",
    "                    tag2log[h]['rwc'].append(rwc)\n",
    "                    tag2log[h]['graph_size'].append(g.number_of_nodes())\n",
    "                    tag2log[h]['cut_ratio'].append(get_cut_ratio(g, node_cluster_ids))\n",
    "                    tag2log[h]['time'].append(now)\n",
    "                    \n",
    "        last_updated_time = now  # TODO: now should be changed\n",
    "    \n",
    "    # filter out non-controversial hashtags\n",
    "    \n",
    "    # top-k hashtag update\n",
    "    "
   ]
  },
  {
   "cell_type": "code",
   "execution_count": 16,
   "metadata": {
    "collapsed": true
   },
   "outputs": [],
   "source": [
    "hottest_h = max(tag2g, key=lambda k: tag2g[k].number_of_nodes())"
   ]
  },
  {
   "cell_type": "code",
   "execution_count": 17,
   "metadata": {
    "collapsed": false
   },
   "outputs": [],
   "source": [
    "g = tag2g[hottest_h]\n",
    "log = tag2log[hottest_h]"
   ]
  },
  {
   "cell_type": "code",
   "execution_count": 18,
   "metadata": {
    "collapsed": false
   },
   "outputs": [],
   "source": [
    "df = pd.DataFrame.from_dict(log)"
   ]
  },
  {
   "cell_type": "code",
   "execution_count": 19,
   "metadata": {
    "collapsed": false
   },
   "outputs": [
    {
     "data": {
      "text/plain": [
       "<matplotlib.axes._subplots.AxesSubplot at 0x7f6b2a5a19b0>"
      ]
     },
     "execution_count": 19,
     "metadata": {},
     "output_type": "execute_result"
    },
    {
     "data": {
      "image/png": "[encoded data removed]",
      "text/plain": [
       "<matplotlib.figure.Figure at 0x7f6b2a57af98>"
      ]
     },
     "metadata": {},
     "output_type": "display_data"
    }
   ],
   "source": [
    "df.plot(x='time', y='rwc', ylim=[0.5, 1])"
   ]
  },
  {
   "cell_type": "code",
   "execution_count": 20,
   "metadata": {
    "collapsed": false
   },
   "outputs": [
    {
     "data": {
      "text/plain": [
       "<matplotlib.axes._subplots.AxesSubplot at 0x7f6b0f69cfd0>"
      ]
     },
     "execution_count": 20,
     "metadata": {},
     "output_type": "execute_result"
    },
    {
     "data": {
      "image/png": "[encoded data removed]",
      "text/plain": [
       "<matplotlib.figure.Figure at 0x7f6b2fd1b0f0>"
      ]
     },
     "metadata": {},
     "output_type": "display_data"
    }
   ],
   "source": [
    "df.plot(x='time', y='graph_size')"
   ]
  },
  {
   "cell_type": "code",
   "execution_count": 21,
   "metadata": {
    "collapsed": false
   },
   "outputs": [
    {
     "data": {
      "text/plain": [
       "<matplotlib.axes._subplots.AxesSubplot at 0x7f6b2fc412e8>"
      ]
     },
     "execution_count": 21,
     "metadata": {},
     "output_type": "execute_result"
    },
    {
     "data": {
      "image/png": "[encoded data removed]",
      "text/plain": [
       "<matplotlib.figure.Figure at 0x7f6b2fcecb00>"
      ]
     },
     "metadata": {},
     "output_type": "display_data"
    }
   ],
   "source": [
    "df.plot(x='time', y='cut_ratio')"
   ]
  }
 ],
 "metadata": {
  "kernelspec": {
   "display_name": "Python 3",
   "language": "python",
   "name": "python3"
  },
  "language_info": {
   "codemirror_mode": {
    "name": "ipython",
    "version": 3
   },
   "file_extension": ".py",
   "mimetype": "text/x-python",
   "name": "python",
   "nbconvert_exporter": "python",
   "pygments_lexer": "ipython3",
   "version": "3.5.2"
  }
 },
 "nbformat": 4,
 "nbformat_minor": 0
}
