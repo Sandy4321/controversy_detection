{
 "cells": [
  {
   "cell_type": "code",
   "execution_count": 2,
   "metadata": {
    "collapsed": false
   },
   "outputs": [],
   "source": [
    "%matplotlib inline\n",
    "import networkx as nx\n",
    "import metis\n",
    "import pandas as pd\n",
    "from scipy.stats import pearsonr\n",
    "from collections import defaultdict\n",
    "from datetime import timedelta, datetime\n",
    "from tqdm import tqdm\n",
    "from matplotlib import pyplot as plt\n",
    "from joblib import Parallel, delayed\n",
    "\n",
    "from rwc import controversy_score\n",
    "from util import tw_list, get_cut_ratio\n",
    "from leopard import update_partition\n",
    "\n"
   ]
  },
  {
   "cell_type": "code",
   "execution_count": 3,
   "metadata": {
    "collapsed": true
   },
   "outputs": [],
   "source": [
    "retweets = pd.read_pickle('data/july.pkl')"
   ]
  },
  {
   "cell_type": "code",
   "execution_count": 4,
   "metadata": {
    "collapsed": true
   },
   "outputs": [],
   "source": [
    "retweets.sort_values(by=['created_at'], axis='index', inplace=True)"
   ]
  },
  {
   "cell_type": "code",
   "execution_count": 5,
   "metadata": {
    "collapsed": false
   },
   "outputs": [],
   "source": [
    "DEBUG = False\n",
    "incremental = True\n",
    "update_interval = timedelta(minutes=5)\n",
    "T_window = timedelta(minutes=60)\n",
    "top_node_percent=0.01\n"
   ]
  },
  {
   "cell_type": "code",
   "execution_count": 6,
   "metadata": {
    "collapsed": false
   },
   "outputs": [],
   "source": [
    "# prevent pickling error in multiprocessing\n",
    "def defaultdict_using_list_func(): \n",
    "    return defaultdict(list)\n",
    "\n",
    "def earlist_date_func(): \n",
    "    return datetime(1970, 1, 1)"
   ]
  },
  {
   "cell_type": "code",
   "execution_count": 7,
   "metadata": {
    "collapsed": false
   },
   "outputs": [],
   "source": [
    "def run_simulation(update_interval, T_window, top_node_percent, incremental,\n",
    "                   return_log=False,\n",
    "                   return_graph=False):\n",
    "    \"\"\"\n",
    "    update_interval: graph stat update interval\n",
    "    T_window: time window \n",
    "    top_node_percent: the number of nodes to consider for RWC calculation\n",
    "    incremental: incremental1 computation or not\n",
    "    \n",
    "    Returns:\n",
    "    \n",
    "    tag2log: logging for update on each tag\n",
    "    running_stat: running statistics\n",
    "    top_hashtags_by_time: top hashtags at different times\n",
    "    tag2g: hashtag to graph\n",
    "    \"\"\"\n",
    "    running_stat = {\n",
    "        'start_time': datetime.now(),\n",
    "        'update_interval': update_interval, \n",
    "        'T_window': T_window,\n",
    "        'incremental': incremental\n",
    "    }\n",
    "    # logging for tags\n",
    "    tag2log = defaultdict(defaultdict_using_list_func)\n",
    "    \n",
    "    # internal data structures\n",
    "    tag2g = defaultdict(nx.Graph)\n",
    "    tag2edge_list = defaultdict(tw_list)\n",
    "    tag2edges_rm = defaultdict(list)\n",
    "    tag2edges_add = defaultdict(list)\n",
    "    \n",
    "    top_hashtags_by_time = []  # TODO: top hashtags at different time points\n",
    "\n",
    "    last_updated_time = defaultdict(earlist_date_func)\n",
    "\n",
    "    for i, rt in tqdm(retweets.head(int(1e5)).iterrows()):\n",
    "        if i % 5000 == 0:\n",
    "            # print('#hashtags {}'.format(len(tag2g)))\n",
    "            # print('now {}'.format(rt['created_at']))\n",
    "            pass\n",
    "\n",
    "        h = rt['hashtag']\n",
    "        g = tag2g[h]  \n",
    "        edge_list = tag2edge_list[h]\n",
    "\n",
    "        u, v, now = rt['retweeter'], rt['retweetee'], rt['created_at']\n",
    "\n",
    "        tag2edges_add[h].append((u, v))\n",
    "\n",
    "        # remove expired edges by triggered hashtag or do it periodically?\n",
    "        earlist_time = now - T_window\n",
    "        edges_to_remove = edge_list.remove_before_time(earlist_time)\n",
    "        if edges_to_remove:\n",
    "            tag2edges_rm[h] += edges_to_remove\n",
    "\n",
    "        last_updated_time = g.graph.get('last_updated_time')\n",
    "\n",
    "        if last_updated_time is None or now - last_updated_time > update_interval:\n",
    "#             def print_log():\n",
    "#                 print('calculating {}'.format(h))\n",
    "#                 print('add {} edges'.format(len(edges_to_add)))\n",
    "#                 print('rm {} edges'.format(len(edges_to_rm)))                \n",
    "\n",
    "            # when the graph is processed for the 1st time \n",
    "            # and it's very small, it will not be updated\n",
    "            updated = False\n",
    "\n",
    "            # update\n",
    "            edges_to_add = tag2edges_add[h]\n",
    "            edges_to_rm = tag2edges_rm[h]\n",
    "\n",
    "            # empty it\n",
    "            tag2edges_add[h] = []\n",
    "            tag2edges_rm[h] = []\n",
    "\n",
    "            pr_vects = g.graph.get('pagerank_vectors')\n",
    "            if not pr_vects or not incremental:  # 1st time                    \n",
    "                g.add_edges_from(edges_to_add)\n",
    "                g.remove_edges_from(edges_to_rm)\n",
    "                if g.number_of_nodes() > 100:  # only calculate RWC when the graph is big enough\n",
    "                    if DEBUG:\n",
    "                        # print_log()\n",
    "                        pass\n",
    "                    cuts, node_cluster_ids = metis.part_graph(g, 2)\n",
    "                    rwc, aux = controversy_score(g, node_cluster_ids, top_percent=top_node_percent)\n",
    "                    updated = True\n",
    "            else:  # incremental\n",
    "                if DEBUG:\n",
    "                    print('updating')\n",
    "                    # print_log()\n",
    "                node_cluster_ids = g.graph['node_cluster_ids']\n",
    "                node_cluster_ids = update_partition(g, node_cluster_ids,\n",
    "                                                    edges_to_add=edges_to_add,\n",
    "                                                    edges_to_remove=edges_to_rm,                                                         \n",
    "                                                    verbose=False)\n",
    "                pr0 = {n: pr_vects['pr0'].get(n, 0) for n in g.nodes_iter()}\n",
    "                pr1 = {n: pr_vects['pr1'].get(n, 0) for n in g.nodes_iter()}\n",
    "                rwc, aux = controversy_score(g, node_cluster_ids,\n",
    "                                             top_percent=top_node_percent,\n",
    "                                             nstart0=pr0,\n",
    "                                             nstart1=pr1)\n",
    "                updated = True\n",
    "\n",
    "            if updated:                    \n",
    "                g.graph['node_cluster_ids'] = node_cluster_ids\n",
    "                g.graph['pagerank_vectors'] = {'pr0': aux['pr0'], 'pr1': aux['pr1']}\n",
    "                g.graph['rwc'] = rwc\n",
    "                g.graph['last_updated_time'] = now  # TODO: now should be changed            \n",
    "\n",
    "                tag2log[h]['rwc'].append(rwc)\n",
    "                tag2log[h]['graph_size'].append(g.number_of_nodes())\n",
    "                tag2log[h]['cut_ratio'].append(get_cut_ratio(g, node_cluster_ids))\n",
    "                tag2log[h]['updated_time'].append(now)\n",
    "\n",
    "\n",
    "\n",
    "        # filter out non-controversial hashtags\n",
    "\n",
    "        # top-k hashtag update\n",
    "    running_stat['end_time'] = datetime.now()\n",
    "    to_return = (running_stat, top_hashtags_by_time)\n",
    "    if return_log:\n",
    "        to_return += (tag2log, )\n",
    "    if return_graph:\n",
    "        to_return += (tag2g, )\n",
    "    return to_return"
   ]
  },
  {
   "cell_type": "code",
   "execution_count": null,
   "metadata": {
    "collapsed": false
   },
   "outputs": [],
   "source": [
    "# some test\n",
    "result = run_simulation(T_window=T_window,\n",
    "                        top_node_percent=top_node_percent,\n",
    "                        update_interval=update_interval,\n",
    "                        incremental=False)\n",
    "print((result[1]['end_time'] - result[1]['start_time']).seconds)"
   ]
  },
  {
   "cell_type": "code",
   "execution_count": null,
   "metadata": {
    "collapsed": false,
    "scrolled": true
   },
   "outputs": [],
   "source": [
    "# update interval vs running time on (incremental, from-scratch)\n",
    "update_intervals = [timedelta(minutes=i) for i in [4, 8, 16, 32]]\n",
    "T_window = timedelta(minutes=60)\n",
    "\n",
    "results = Parallel(n_jobs=8)(delayed(run_simulation)(update_interval=update_interval,\n",
    "                                                     T_window=T_window,\n",
    "                                                     top_node_percent=top_node_percent,\n",
    "                                                     incremental=incremental)\n",
    "                             for incremental in [True, False]\n",
    "                             for update_interval in update_intervals)\n"
   ]
  },
  {
   "cell_type": "code",
   "execution_count": null,
   "metadata": {
    "collapsed": false
   },
   "outputs": [],
   "source": [
    "df = pd.DataFrame.from_records([r[0] for r in results])\n",
    "df['seconds'] = (df['end_time'] - df['start_time']).apply(lambda t: t.seconds)\n",
    "df['update_interval'] = df['update_interval'].apply(lambda i: i.seconds/60)\n",
    "df['throughput'] = 1e5 / df['seconds']\n",
    "df"
   ]
  },
  {
   "cell_type": "code",
   "execution_count": null,
   "metadata": {
    "collapsed": false
   },
   "outputs": [],
   "source": [
    "leopard = df[df['incremental'] == True]\n",
    "metis = df[df['incremental'] == False]\n",
    "\n",
    "plt.plot(leopard['update_interval'], leopard['throughput'], '-o')\n",
    "plt.plot(metis['update_interval'], metis['throughput'], '-*')\n",
    "plt.legend(['Incremental', 'From scratch'], loc='upper left')\n",
    "plt.xlabel('Update interval (minutes)')\n",
    "plt.ylabel('Throughput (#tweets / second)')\n",
    "plt.ylim([100, 1400])\n",
    "plt.title('Throughput vs update interval')\n",
    "plt.savefig('figs/throughput_comparison.pdf')"
   ]
  },
  {
   "cell_type": "code",
   "execution_count": 8,
   "metadata": {
    "collapsed": false
   },
   "outputs": [
    {
     "name": "stderr",
     "output_type": "stream",
     "text": [
      "100000it [01:27, 1136.98it/s]\n",
      "100000it [01:37, 1024.71it/s]\n",
      "100000it [01:51, 894.90it/s]\n",
      "100000it [02:19, 715.40it/s]\n",
      "100000it [02:52, 367.69it/s]\n",
      "100000it [03:21, 496.42it/s]\n",
      "100000it [02:00, 828.98it/s]\n",
      "100000it [02:20, 709.46it/s]\n",
      "100000it [03:53, 428.84it/s]\n",
      "100000it [06:24, 260.23it/s]\n"
     ]
    }
   ],
   "source": [
    "# controversy score on incremental and non-incremental\n",
    "update_intervals = [timedelta(minutes=i) for i in [5, 10, 15, 20, 25]]\n",
    "T_window = timedelta(minutes=60)\n",
    "\n",
    "results = Parallel(n_jobs=8)(delayed(run_simulation)(update_interval=update_interval,\n",
    "                                                     T_window=T_window,\n",
    "                                                     top_node_percent=top_node_percent,\n",
    "                                                     incremental=incremental,\n",
    "                                                     return_log=True)\n",
    "                             for incremental in [True, False]\n",
    "                             for update_interval in update_intervals)\n"
   ]
  },
  {
   "cell_type": "code",
   "execution_count": 17,
   "metadata": {
    "collapsed": false
   },
   "outputs": [],
   "source": [
    "key1, key2 = 'incremental', 'update_interval'\n",
    "rows = defaultdict(list)\n",
    "hashtags = list(results[0][2].keys())\n",
    "for r in results:\n",
    "    params, log = r[0], r[2]\n",
    "    for h in hashtags:\n",
    "        rows[(params[key1], params[key2])] += log[h]['rwc']\n",
    "incs, upds = zip(*list(rows.keys()))\n",
    "rwcs = list(rows.values())\n",
    "df = pd.DataFrame.from_dict({'incremental': incs, \n",
    "                             'update_interval': upds, \n",
    "                             'rwcs':rwcs})"
   ]
  },
  {
   "cell_type": "code",
   "execution_count": 49,
   "metadata": {
    "collapsed": false
   },
   "outputs": [
    {
     "data": {
      "text/plain": [
       "(4.0, 26.0)"
      ]
     },
     "execution_count": 49,
     "metadata": {},
     "output_type": "execute_result"
    },
    {
     "data": {
      "image/png": "[encoded data removed]",
      "text/plain": [
       "<matplotlib.figure.Figure at 0x7f8650863ac8>"
      ]
     },
     "metadata": {},
     "output_type": "display_data"
    }
   ],
   "source": [
    "pcr = df.groupby('update_interval').apply(lambda sdf: pearsonr(*sdf['rwcs'])[0])\n",
    "minutes = pcr.index.map(lambda m: m.seconds/60)\n",
    "corrs = pcr.values\n",
    "plt.plot(minutes, corrs, '-o')\n",
    "plt.xlabel('update interval (minutes)')\n",
    "plt.ylabel('Correlation coefficient')\n",
    "plt.title('Pearson correlation coefficient vs update interval')\n",
    "plt.ylim([0, 1.0])\n",
    "plt.xlim([min(minutes) - 1, max(minutes) + 1])"
   ]
  },
  {
   "cell_type": "code",
   "execution_count": 58,
   "metadata": {
    "collapsed": false
   },
   "outputs": [],
   "source": [
    "r1 = df[(df['incremental'] == True) & (df['update_interval'] == timedelta(minutes=25))].iloc[0]['rwcs']\n",
    "r2 = df[(df['incremental'] == False) & (df['update_interval'] == timedelta(minutes=25))].iloc[0]['rwcs']"
   ]
  },
  {
   "cell_type": "code",
   "execution_count": 60,
   "metadata": {
    "collapsed": false
   },
   "outputs": [
    {
     "data": {
      "text/plain": [
       "<matplotlib.text.Text at 0x7f864cc40cc0>"
      ]
     },
     "execution_count": 60,
     "metadata": {},
     "output_type": "execute_result"
    },
    {
     "data": {
      "image/png": "[encoded data removed]",
      "text/plain": [
       "<matplotlib.figure.Figure at 0x7f864cc270f0>"
      ]
     },
     "metadata": {},
     "output_type": "display_data"
    }
   ],
   "source": [
    "plt.scatter(r1, r2)\n",
    "plt.xlim([0.5, 1.0])\n",
    "plt.ylim([0.5, 1.0])\n",
    "plt.xlabel('incremental')\n",
    "plt.ylabel('from-scratch')\n",
    "plt.title('RWC score from two approaches')"
   ]
  },
  {
   "cell_type": "code",
   "execution_count": null,
   "metadata": {
    "collapsed": true
   },
   "outputs": [],
   "source": [
    "tag2log, running_stat, top_hashtags_by_time, tag2g = ()\n",
    "hottest_h = max(tag2g, key=lambda k: tag2g[k].number_of_nodes())"
   ]
  },
  {
   "cell_type": "code",
   "execution_count": null,
   "metadata": {
    "collapsed": false
   },
   "outputs": [],
   "source": [
    "g = tag2g[hottest_h]\n",
    "log = tag2log[hottest_h]"
   ]
  },
  {
   "cell_type": "code",
   "execution_count": null,
   "metadata": {
    "collapsed": false
   },
   "outputs": [],
   "source": [
    "df = pd.DataFrame.from_dict(log)"
   ]
  },
  {
   "cell_type": "code",
   "execution_count": null,
   "metadata": {
    "collapsed": false
   },
   "outputs": [],
   "source": [
    "df.plot(x='time', y='rwc', ylim=[0.5, 1])"
   ]
  },
  {
   "cell_type": "code",
   "execution_count": null,
   "metadata": {
    "collapsed": false
   },
   "outputs": [],
   "source": [
    "df.plot(x='time', y='graph_size')"
   ]
  },
  {
   "cell_type": "code",
   "execution_count": null,
   "metadata": {
    "collapsed": false
   },
   "outputs": [],
   "source": [
    "df.plot(x='time', y='cut_ratio')"
   ]
  }
 ],
 "metadata": {
  "kernelspec": {
   "display_name": "Python 3",
   "language": "python",
   "name": "python3"
  }
 },
 "nbformat": 4,
 "nbformat_minor": 0
}
