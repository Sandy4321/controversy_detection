{
 "cells": [
  {
   "cell_type": "code",
   "execution_count": 2,
   "metadata": {
    "collapsed": false
   },
   "outputs": [
    {
     "name": "stdout",
     "output_type": "stream",
     "text": [
      "The autoreload extension is already loaded. To reload it, use:\n",
      "  %reload_ext autoreload\n"
     ]
    }
   ],
   "source": [
    "%matplotlib inline\n",
    "%load_ext autoreload\n",
    "%autoreload 2\n",
    "\n",
    "import networkx as nx\n",
    "import metis\n",
    "import pandas as pd\n",
    "import random\n",
    "from scipy.stats import pearsonr\n",
    "from collections import defaultdict\n",
    "from datetime import timedelta, datetime\n",
    "from tqdm import tqdm\n",
    "from matplotlib import pyplot as plt\n",
    "from joblib import Parallel, delayed\n",
    "\n",
    "from rwc import controversy_score\n",
    "from util import tw_list, get_cut_ratio, add_edges, remove_edges\n",
    "from leopard import update_partition\n",
    "\n"
   ]
  },
  {
   "cell_type": "code",
   "execution_count": 3,
   "metadata": {
    "collapsed": true
   },
   "outputs": [],
   "source": [
    "retweets = pd.read_pickle('data/july.pkl')"
   ]
  },
  {
   "cell_type": "code",
   "execution_count": 4,
   "metadata": {
    "collapsed": false
   },
   "outputs": [],
   "source": [
    "retweets.sort_values(by=['created_at'], axis='index', inplace=True)"
   ]
  },
  {
   "cell_type": "code",
   "execution_count": 5,
   "metadata": {
    "collapsed": false
   },
   "outputs": [],
   "source": [
    "DEBUG = False\n",
    "incremental = True\n",
    "update_interval = timedelta(minutes=10)\n",
    "T_window = timedelta(minutes=60*12)\n",
    "top_node_percent=0.01\n"
   ]
  },
  {
   "cell_type": "code",
   "execution_count": 6,
   "metadata": {
    "collapsed": false
   },
   "outputs": [],
   "source": [
    "# prevent pickling error in multiprocessing\n",
    "def defaultdict_using_list_func(): \n",
    "    return defaultdict(list)\n",
    "\n",
    "def earlist_date_func(): \n",
    "    return datetime(1970, 1, 1)"
   ]
  },
  {
   "cell_type": "code",
   "execution_count": null,
   "metadata": {
    "collapsed": false,
    "scrolled": false
   },
   "outputs": [
    {
     "name": "stderr",
     "output_type": "stream",
     "text": [
      "77935it [01:00, 723.55it/s]"
     ]
    }
   ],
   "source": [
    "from simulation import run_simulation\n",
    "# some test\n",
    "result = run_simulation(retweets,\n",
    "                        T_window=T_window,\n",
    "                        top_node_percent=top_node_percent,\n",
    "                        update_interval=update_interval,                        \n",
    "                        incremental=True,\n",
    "                        top_k=10,\n",
    "                        top_k_computation_interval=timedelta(minutes=20),\n",
    "                        min_rwc_score=0.8,\n",
    "                        head_n=12*1e5,\n",
    "                        return_graph=True\n",
    "                       )\n",
    "# print((result[1]['end_time'] - result[1]['start_time']).seconds)"
   ]
  },
  {
   "cell_type": "code",
   "execution_count": null,
   "metadata": {
    "collapsed": false,
    "scrolled": true
   },
   "outputs": [],
   "source": [
    "top_k_log = result[1]\n",
    "tags = list(set([i['tag'] for l in top_k_log for i in l['list']]))\n",
    "\n",
    "N, M = len(top_k_log), len(tags)\n",
    "\n",
    "tag2id = {t: i for i, t in enumerate(tags)}\n",
    "rwc_mat = np.zeros((M, N))\n",
    "X = np.arange(N)\n",
    "\n",
    "for i, log in enumerate(top_k_log):\n",
    "    for item in log['list']:\n",
    "        rwc_mat[tag2id[item['tag']], i] = item['size']\n",
    "\n",
    "colors = \"#aec7e8 #ff7f0e #ffbb78 #2ca02c #98df8a #d62728 #ff9896 #9467bd #c5b0d5 #8c564b #c49c94 #e377c2 #f7b6d2 #7f7f7f #c7c7c7 #bcbd22 #dbdb8d #17becf #9edae5 #1f77b4 #FFD000\".split()\n",
    "# colors = random.sample(all_colors, len(tags))\n",
    "fig = plt.figure(figsize=(20, 13))\n",
    "ax = fig.add_subplot(111)\n",
    "ax.stackplot(X, rwc_mat, baseline='wiggle', colors=colors)\n",
    "ax.legend(tags, loc='upper left', ncol=3, fontsize=15.5)\n",
    "# ax.set_ylim([-1250, 1500])\n",
    "ax.set_title('Sizes of controversial events over time')\n",
    "fig.savefig('figs/events_stacked_area.pdf')"
   ]
  },
  {
   "cell_type": "code",
   "execution_count": null,
   "metadata": {
    "collapsed": false,
    "scrolled": true
   },
   "outputs": [],
   "source": [
    "# update interval vs running time on (incremental, from-scratch)\n",
    "update_intervals = [timedelta(minutes=i) for i in [4, 8, 16, 32]]\n",
    "T_window = timedelta(minutes=60)\n",
    "\n",
    "results = Parallel(n_jobs=8)(delayed(run_simulation)(update_interval=update_interval,\n",
    "                                                     T_window=T_window,\n",
    "                                                     top_node_percent=top_node_percent,\n",
    "                                                     incremental=incremental)\n",
    "                             for incremental in [True, False]\n",
    "                             for update_interval in update_intervals)\n"
   ]
  },
  {
   "cell_type": "code",
   "execution_count": null,
   "metadata": {
    "collapsed": false
   },
   "outputs": [],
   "source": [
    "df = pd.DataFrame.from_records([r[0] for r in results])\n",
    "df['seconds'] = (df['end_time'] - df['start_time']).apply(lambda t: t.seconds)\n",
    "df['update_interval'] = df['update_interval'].apply(lambda i: i.seconds/60)\n",
    "df['throughput'] = 1e5 / df['seconds']\n",
    "df"
   ]
  },
  {
   "cell_type": "code",
   "execution_count": null,
   "metadata": {
    "collapsed": false
   },
   "outputs": [],
   "source": [
    "leopard = df[df['incremental'] == True]\n",
    "metis = df[df['incremental'] == False]\n",
    "\n",
    "plt.plot(leopard['update_interval'], leopard['throughput'], '-o')\n",
    "plt.plot(metis['update_interval'], metis['throughput'], '-*')\n",
    "plt.legend(['Incremental', 'From scratch'], loc='upper left')\n",
    "plt.xlabel('Update interval (minutes)')\n",
    "plt.ylabel('Throughput (#tweets / second)')\n",
    "plt.ylim([100, 1800])\n",
    "plt.title('Throughput vs update interval')\n",
    "plt.savefig('figs/throughput_comparison.pdf')"
   ]
  },
  {
   "cell_type": "code",
   "execution_count": null,
   "metadata": {
    "collapsed": false
   },
   "outputs": [],
   "source": [
    "# controversy score on incremental and non-incremental\n",
    "update_intervals = [timedelta(minutes=i) for i in [5, 10, 15, 20, 25]]\n",
    "T_window = timedelta(minutes=60)\n",
    "\n",
    "results = Parallel(n_jobs=8)(delayed(run_simulation)(update_interval=update_interval,\n",
    "                                                     T_window=T_window,\n",
    "                                                     top_node_percent=top_node_percent,\n",
    "                                                     incremental=incremental,\n",
    "                                                     return_log=True)\n",
    "                             for incremental in [True, False]\n",
    "                             for update_interval in update_intervals)\n"
   ]
  },
  {
   "cell_type": "code",
   "execution_count": null,
   "metadata": {
    "collapsed": false
   },
   "outputs": [],
   "source": [
    "key1, key2 = 'incremental', 'update_interval'\n",
    "rows = defaultdict(list)\n",
    "hashtags = list(results[0][2].keys())\n",
    "for r in results:\n",
    "    params, log = r[0], r[2]\n",
    "    for h in hashtags:\n",
    "        rows[(params[key1], params[key2])] += log[h]['rwc']\n",
    "incs, upds = zip(*list(rows.keys()))\n",
    "rwcs = list(rows.values())\n",
    "df = pd.DataFrame.from_dict({'incremental': incs, \n",
    "                             'update_interval': upds, \n",
    "                             'rwcs':rwcs})"
   ]
  },
  {
   "cell_type": "code",
   "execution_count": null,
   "metadata": {
    "collapsed": false
   },
   "outputs": [],
   "source": [
    "pcr = df.groupby('update_interval').apply(lambda sdf: pearsonr(*sdf['rwcs'])[0])\n",
    "minutes = pcr.index.map(lambda m: m.seconds/60)\n",
    "corrs = pcr.values\n",
    "plt.plot(minutes, corrs, '-o')\n",
    "plt.xlabel('update interval (minutes)')\n",
    "plt.ylabel('Correlation coefficient')\n",
    "plt.title('Pearson correlation coefficient vs update interval')\n",
    "plt.ylim([0, 1.0])\n",
    "plt.xlim([min(minutes) - 1, max(minutes) + 1])\n",
    "plt.savefig('figs/corrs-vs-update-interval.pdf')"
   ]
  },
  {
   "cell_type": "code",
   "execution_count": null,
   "metadata": {
    "collapsed": false
   },
   "outputs": [],
   "source": [
    "r1 = df[(df['incremental'] == True) & (df['update_interval'] == timedelta(minutes=5))].iloc[0]['rwcs']\n",
    "r2 = df[(df['incremental'] == False) & (df['update_interval'] == timedelta(minutes=5))].iloc[0]['rwcs']"
   ]
  },
  {
   "cell_type": "code",
   "execution_count": null,
   "metadata": {
    "collapsed": false
   },
   "outputs": [],
   "source": [
    "plt.scatter(r1, r2)\n",
    "plt.xlim([0.5, 1.0])\n",
    "plt.ylim([0.5, 1.0])\n",
    "plt.xlabel('incremental')\n",
    "plt.ylabel('from-scratch')\n",
    "plt.title('RWC score from two approaches')\n",
    "plt.savefig('figs/ic-fs-rwc-scatter.pdf')"
   ]
  },
  {
   "cell_type": "code",
   "execution_count": null,
   "metadata": {
    "collapsed": false
   },
   "outputs": [],
   "source": [
    "# the RWC score evoluation of incremental and from-scratch method\n",
    "h = max(results[0][2].keys(), key=lambda d: len(results[0][2][d]['rwc']))\n",
    "print(h)\n",
    "scores = {}\n",
    "for r in results:\n",
    "    if r[0]['update_interval'] == timedelta(minutes=5):\n",
    "        if r[0]['incremental']:\n",
    "            k = 'incremental'\n",
    "        else:\n",
    "            k = 'from scratch'\n",
    "        scores[k] = r[2][h]['rwc']        "
   ]
  },
  {
   "cell_type": "code",
   "execution_count": null,
   "metadata": {
    "collapsed": false,
    "scrolled": true
   },
   "outputs": [],
   "source": [
    "for k, v in scores.items():\n",
    "    plt.plot(np.arange(len(v)), v)\n",
    "plt.legend(scores.keys(), loc='lower right')    "
   ]
  },
  {
   "cell_type": "code",
   "execution_count": null,
   "metadata": {
    "collapsed": true
   },
   "outputs": [],
   "source": [
    "tag2log, running_stat, top_hashtags_by_time, tag2g = ()\n",
    "hottest_h = max(tag2g, key=lambda k: tag2g[k].number_of_nodes())"
   ]
  },
  {
   "cell_type": "code",
   "execution_count": null,
   "metadata": {
    "collapsed": false
   },
   "outputs": [],
   "source": [
    "g = tag2g[hottest_h]\n",
    "log = tag2log[hottest_h]"
   ]
  },
  {
   "cell_type": "code",
   "execution_count": null,
   "metadata": {
    "collapsed": false
   },
   "outputs": [],
   "source": [
    "df = pd.DataFrame.from_dict(log)"
   ]
  },
  {
   "cell_type": "code",
   "execution_count": null,
   "metadata": {
    "collapsed": false
   },
   "outputs": [],
   "source": [
    "df.plot(x='time', y='rwc', ylim=[0.5, 1])"
   ]
  },
  {
   "cell_type": "code",
   "execution_count": null,
   "metadata": {
    "collapsed": false
   },
   "outputs": [],
   "source": [
    "df.plot(x='time', y='graph_size')"
   ]
  },
  {
   "cell_type": "code",
   "execution_count": null,
   "metadata": {
    "collapsed": false
   },
   "outputs": [],
   "source": [
    "df.plot(x='time', y='cut_ratio')"
   ]
  }
 ],
 "metadata": {
  "kernelspec": {
   "display_name": "Python 3",
   "language": "python",
   "name": "python3"
  },
  "language_info": {
   "codemirror_mode": {
    "name": "ipython",
    "version": 3
   },
   "file_extension": ".py",
   "mimetype": "text/x-python",
   "name": "python",
   "nbconvert_exporter": "python",
   "pygments_lexer": "ipython3",
   "version": "3.5.2"
  }
 },
 "nbformat": 4,
 "nbformat_minor": 0
}
