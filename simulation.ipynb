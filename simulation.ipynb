{
 "cells": [
  {
   "cell_type": "code",
   "execution_count": 49,
   "metadata": {
    "collapsed": false
   },
   "outputs": [],
   "source": [
    "%matplotlib inline\n",
    "import networkx as nx\n",
    "import metis\n",
    "import pandas as pd\n",
    "from collections import defaultdict\n",
    "from datetime import timedelta, datetime\n",
    "from tqdm import tqdm\n",
    "from matplotlib import pyplot as plt\n",
    "\n",
    "from rwc import controversy_score\n",
    "from util import tw_list, get_cut_ratio\n",
    "from leopard import update_partition\n"
   ]
  },
  {
   "cell_type": "code",
   "execution_count": 2,
   "metadata": {
    "collapsed": true
   },
   "outputs": [],
   "source": [
    "retweets = pd.read_pickle('data/july.pkl')"
   ]
  },
  {
   "cell_type": "code",
   "execution_count": 3,
   "metadata": {
    "collapsed": true
   },
   "outputs": [],
   "source": [
    "retweets.sort_values(by=['created_at'], axis='index', inplace=True)"
   ]
  },
  {
   "cell_type": "code",
   "execution_count": 4,
   "metadata": {
    "collapsed": false
   },
   "outputs": [],
   "source": [
    "DEBUG = False\n",
    "incremental = True\n",
    "update_interval = timedelta(minutes=5)\n",
    "T_window = timedelta(minutes=60)\n",
    "top_node_percent=0.01\n"
   ]
  },
  {
   "cell_type": "code",
   "execution_count": 26,
   "metadata": {
    "collapsed": false
   },
   "outputs": [],
   "source": [
    "def run_simulation(update_interval, T_window, top_node_percent, incremental,\n",
    "                   return_basic=True):\n",
    "    \"\"\"\n",
    "    update_interval: graph stat update interval\n",
    "    T_window: time window \n",
    "    top_node_percent: the number of nodes to consider for RWC calculation\n",
    "    incremental: incremental computation or not\n",
    "    \n",
    "    Returns:\n",
    "    \n",
    "    tag2log: logging for update on each tag\n",
    "    running_stat: running statistics\n",
    "    top_hashtags_by_time: top hashtags at different times\n",
    "    tag2g: hashtag to graph\n",
    "    \"\"\"\n",
    "    running_stat = {\n",
    "        'start_time': datetime.now(),\n",
    "        'update_interval': update_interval, \n",
    "        'T_window': T_window,\n",
    "        'incremental': incremental\n",
    "    }\n",
    "    # logging for tags\n",
    "    tag2log = defaultdict(lambda: defaultdict(list))\n",
    "    \n",
    "    # internal data structures\n",
    "    tag2g = defaultdict(nx.Graph)\n",
    "    tag2edge_list = defaultdict(tw_list)\n",
    "    tag2edges_rm = defaultdict(list)\n",
    "    tag2edges_add = defaultdict(list)\n",
    "    \n",
    "    top_hashtags_by_time = []  # TODO: top hashtags at different time points\n",
    "\n",
    "    last_updated_time = defaultdict(lambda: datetime(1970, 1, 1))\n",
    "\n",
    "    for i, rt in tqdm(retweets.head(int(1e5)).iterrows()):\n",
    "        if i % 5000 == 0:\n",
    "            # print('#hashtags {}'.format(len(tag2g)))\n",
    "            # print('now {}'.format(rt['created_at']))\n",
    "            pass\n",
    "\n",
    "        h = rt['hashtag']\n",
    "        g = tag2g[h]  \n",
    "        edge_list = tag2edge_list[h]\n",
    "\n",
    "        u, v, now = rt['retweeter'], rt['retweetee'], rt['created_at']\n",
    "\n",
    "        tag2edges_add[h].append((u, v))\n",
    "\n",
    "        # remove expired edges by triggered hashtag or do it periodically?\n",
    "        earlist_time = now - T_window\n",
    "        edges_to_remove = edge_list.remove_before_time(earlist_time)\n",
    "        if edges_to_remove:\n",
    "            tag2edges_rm[h] += edges_to_remove\n",
    "\n",
    "        last_updated_time = g.graph.get('last_updated_time')\n",
    "\n",
    "        if last_updated_time is None or now - last_updated_time > update_interval:\n",
    "            def print_log():\n",
    "                print('calculating {}'.format(h))\n",
    "                print('add {} edges'.format(len(edges_to_add)))\n",
    "                print('rm {} edges'.format(len(edges_to_rm)))                \n",
    "\n",
    "            # when the graph is processed for the 1st time \n",
    "            # and it's very small, it will not be updated\n",
    "            updated = False\n",
    "\n",
    "            # update\n",
    "            edges_to_add = tag2edges_add[h]\n",
    "            edges_to_rm = tag2edges_rm[h]\n",
    "\n",
    "            # empty it\n",
    "            tag2edges_add[h] = []\n",
    "            tag2edges_rm[h] = []\n",
    "\n",
    "            pr_vects = g.graph.get('pagerank_vectors')\n",
    "            if not pr_vects or not incremental:  # 1st time                    \n",
    "                g.add_edges_from(edges_to_add)\n",
    "                g.remove_edges_from(edges_to_rm)\n",
    "                if g.number_of_nodes() > 100:  # only calculate RWC when the graph is big enough\n",
    "                    if DEBUG:\n",
    "                        print_log()\n",
    "                    cuts, node_cluster_ids = metis.part_graph(g, 2)\n",
    "                    rwc, aux = controversy_score(g, node_cluster_ids, top_percent=top_node_percent)\n",
    "                    updated = True\n",
    "            else:  # incremental\n",
    "                if DEBUG:\n",
    "                    print('updating')\n",
    "                    print_log()\n",
    "                node_cluster_ids = g.graph['node_cluster_ids']\n",
    "                node_cluster_ids = update_partition(g, node_cluster_ids,\n",
    "                                                    edges_to_add=edges_to_add,\n",
    "                                                    edges_to_remove=edges_to_rm,                                                         \n",
    "                                                    verbose=False)\n",
    "                pr0 = {n: pr_vects['pr0'].get(n, 0) for n in g.nodes_iter()}\n",
    "                pr1 = {n: pr_vects['pr1'].get(n, 0) for n in g.nodes_iter()}\n",
    "                rwc, aux = controversy_score(g, node_cluster_ids,\n",
    "                                             top_percent=top_node_percent,\n",
    "                                             nstart0=pr0,\n",
    "                                             nstart1=pr1)\n",
    "                updated = True\n",
    "\n",
    "            if updated:                    \n",
    "                g.graph['node_cluster_ids'] = node_cluster_ids\n",
    "                g.graph['pagerank_vectors'] = {'pr0': aux['pr0'], 'pr1': aux['pr1']}\n",
    "                g.graph['rwc'] = rwc\n",
    "                g.graph['last_updated_time'] = now  # TODO: now should be changed            \n",
    "\n",
    "                tag2log[h]['rwc'].append(rwc)\n",
    "                tag2log[h]['graph_size'].append(g.number_of_nodes())\n",
    "                tag2log[h]['cut_ratio'].append(get_cut_ratio(g, node_cluster_ids))\n",
    "                tag2log[h]['updated_time'].append(now)\n",
    "\n",
    "\n",
    "\n",
    "        # filter out non-controversial hashtags\n",
    "\n",
    "        # top-k hashtag update\n",
    "    running_stat['end_time'] = datetime.now()\n",
    "    if return_basic:\n",
    "        return running_stat, top_hashtags_by_time\n",
    "    else:\n",
    "        return tag2log, running_stat, top_hashtags_by_time, tag2g"
   ]
  },
  {
   "cell_type": "code",
   "execution_count": 22,
   "metadata": {
    "collapsed": false
   },
   "outputs": [
    {
     "name": "stderr",
     "output_type": "stream",
     "text": [
      "100000it [06:59, 238.35it/s]\n"
     ]
    }
   ],
   "source": [
    "result = run_simulation(T_window=T_window,\n",
    "                        top_node_percent=top_node_percent,\n",
    "                        update_interval=update_interval,\n",
    "                        incremental=False)"
   ]
  },
  {
   "cell_type": "code",
   "execution_count": 16,
   "metadata": {
    "collapsed": false
   },
   "outputs": [
    {
     "data": {
      "text/plain": [
       "422"
      ]
     },
     "execution_count": 16,
     "metadata": {},
     "output_type": "execute_result"
    }
   ],
   "source": [
    "(result[1]['end_time'] - result[1]['start_time']).seconds"
   ]
  },
  {
   "cell_type": "code",
   "execution_count": 27,
   "metadata": {
    "collapsed": false,
    "scrolled": true
   },
   "outputs": [
    {
     "name": "stderr",
     "output_type": "stream",
     "text": [
      "100000it [01:22, 1206.97it/s]\n",
      "100000it [01:54, 871.00it/s]\n",
      "100000it [01:56, 857.26it/s]\n",
      "100000it [02:44, 607.24it/s]\n",
      "100000it [03:01, 551.69it/s]\n",
      "100000it [03:55, 425.05it/s]\n",
      "100000it [04:55, 338.64it/s]\n",
      "100000it [08:05, 206.07it/s]\n"
     ]
    }
   ],
   "source": [
    "update_intervals = [timedelta(minutes=i) for i in [4, 8, 16, 32]]\n",
    "T_window = timedelta(minutes=60)\n",
    "\n",
    "from joblib import Parallel, delayed\n",
    "\n",
    "results = Parallel(n_jobs=8)(delayed(run_simulation)(update_interval=update_interval,\n",
    "                                                     T_window=T_window,\n",
    "                                                     top_node_percent=top_node_percent,\n",
    "                                                     incremental=incremental,\n",
    "                                                     return_basic=True)\n",
    "                             for incremental in [True, False]\n",
    "                             for update_interval in update_intervals)\n"
   ]
  },
  {
   "cell_type": "code",
   "execution_count": 54,
   "metadata": {
    "collapsed": false
   },
   "outputs": [
    {
     "data": {
      "text/html": [
       "<div>\n",
       "<table border=\"1\" class=\"dataframe\">\n",
       "  <thead>\n",
       "    <tr style=\"text-align: right;\">\n",
       "      <th></th>\n",
       "      <th>T_window</th>\n",
       "      <th>end_time</th>\n",
       "      <th>incremental</th>\n",
       "      <th>start_time</th>\n",
       "      <th>update_interval</th>\n",
       "      <th>seconds</th>\n",
       "      <th>throughput</th>\n",
       "    </tr>\n",
       "  </thead>\n",
       "  <tbody>\n",
       "    <tr>\n",
       "      <th>0</th>\n",
       "      <td>01:00:00</td>\n",
       "      <td>2016-12-21 20:54:32.275087</td>\n",
       "      <td>True</td>\n",
       "      <td>2016-12-21 20:50:36.916720</td>\n",
       "      <td>4.0</td>\n",
       "      <td>235</td>\n",
       "      <td>425.531915</td>\n",
       "    </tr>\n",
       "    <tr>\n",
       "      <th>1</th>\n",
       "      <td>01:00:00</td>\n",
       "      <td>2016-12-21 20:53:21.696529</td>\n",
       "      <td>True</td>\n",
       "      <td>2016-12-21 20:50:36.926553</td>\n",
       "      <td>8.0</td>\n",
       "      <td>164</td>\n",
       "      <td>609.756098</td>\n",
       "    </tr>\n",
       "    <tr>\n",
       "      <th>2</th>\n",
       "      <td>01:00:00</td>\n",
       "      <td>2016-12-21 20:52:33.669411</td>\n",
       "      <td>True</td>\n",
       "      <td>2016-12-21 20:50:36.933328</td>\n",
       "      <td>16.0</td>\n",
       "      <td>116</td>\n",
       "      <td>862.068966</td>\n",
       "    </tr>\n",
       "    <tr>\n",
       "      <th>3</th>\n",
       "      <td>01:00:00</td>\n",
       "      <td>2016-12-21 20:51:59.898593</td>\n",
       "      <td>True</td>\n",
       "      <td>2016-12-21 20:50:36.945078</td>\n",
       "      <td>32.0</td>\n",
       "      <td>82</td>\n",
       "      <td>1219.512195</td>\n",
       "    </tr>\n",
       "    <tr>\n",
       "      <th>4</th>\n",
       "      <td>01:00:00</td>\n",
       "      <td>2016-12-21 20:58:42.322251</td>\n",
       "      <td>False</td>\n",
       "      <td>2016-12-21 20:50:36.954691</td>\n",
       "      <td>4.0</td>\n",
       "      <td>485</td>\n",
       "      <td>206.185567</td>\n",
       "    </tr>\n",
       "    <tr>\n",
       "      <th>5</th>\n",
       "      <td>01:00:00</td>\n",
       "      <td>2016-12-21 20:55:32.351874</td>\n",
       "      <td>False</td>\n",
       "      <td>2016-12-21 20:50:36.964668</td>\n",
       "      <td>8.0</td>\n",
       "      <td>295</td>\n",
       "      <td>338.983051</td>\n",
       "    </tr>\n",
       "    <tr>\n",
       "      <th>6</th>\n",
       "      <td>01:00:00</td>\n",
       "      <td>2016-12-21 20:53:38.328031</td>\n",
       "      <td>False</td>\n",
       "      <td>2016-12-21 20:50:36.990194</td>\n",
       "      <td>16.0</td>\n",
       "      <td>181</td>\n",
       "      <td>552.486188</td>\n",
       "    </tr>\n",
       "    <tr>\n",
       "      <th>7</th>\n",
       "      <td>01:00:00</td>\n",
       "      <td>2016-12-21 20:52:31.862822</td>\n",
       "      <td>False</td>\n",
       "      <td>2016-12-21 20:50:36.976056</td>\n",
       "      <td>32.0</td>\n",
       "      <td>114</td>\n",
       "      <td>877.192982</td>\n",
       "    </tr>\n",
       "  </tbody>\n",
       "</table>\n",
       "</div>"
      ],
      "text/plain": [
       "   T_window                   end_time incremental                 start_time  \\\n",
       "0  01:00:00 2016-12-21 20:54:32.275087        True 2016-12-21 20:50:36.916720   \n",
       "1  01:00:00 2016-12-21 20:53:21.696529        True 2016-12-21 20:50:36.926553   \n",
       "2  01:00:00 2016-12-21 20:52:33.669411        True 2016-12-21 20:50:36.933328   \n",
       "3  01:00:00 2016-12-21 20:51:59.898593        True 2016-12-21 20:50:36.945078   \n",
       "4  01:00:00 2016-12-21 20:58:42.322251       False 2016-12-21 20:50:36.954691   \n",
       "5  01:00:00 2016-12-21 20:55:32.351874       False 2016-12-21 20:50:36.964668   \n",
       "6  01:00:00 2016-12-21 20:53:38.328031       False 2016-12-21 20:50:36.990194   \n",
       "7  01:00:00 2016-12-21 20:52:31.862822       False 2016-12-21 20:50:36.976056   \n",
       "\n",
       "   update_interval  seconds   throughput  \n",
       "0              4.0      235   425.531915  \n",
       "1              8.0      164   609.756098  \n",
       "2             16.0      116   862.068966  \n",
       "3             32.0       82  1219.512195  \n",
       "4              4.0      485   206.185567  \n",
       "5              8.0      295   338.983051  \n",
       "6             16.0      181   552.486188  \n",
       "7             32.0      114   877.192982  "
      ]
     },
     "execution_count": 54,
     "metadata": {},
     "output_type": "execute_result"
    }
   ],
   "source": [
    "df = pd.DataFrame.from_records([r[0] for r in results])\n",
    "df['seconds'] = (df['end_time'] - df['start_time']).apply(lambda t: t.seconds)\n",
    "df['update_interval'] = df['update_interval'].apply(lambda i: i.seconds/60)\n",
    "df['throughput'] = 1e5 / df['seconds']\n",
    "df"
   ]
  },
  {
   "cell_type": "code",
   "execution_count": 63,
   "metadata": {
    "collapsed": false
   },
   "outputs": [
    {
     "data": {
      "image/png": "[encoded data removed]",
      "text/plain": [
       "<matplotlib.figure.Figure at 0x7fb09cff4438>"
      ]
     },
     "metadata": {},
     "output_type": "display_data"
    }
   ],
   "source": [
    "leopard = df[df['incremental'] == True]\n",
    "metis = df[df['incremental'] == False]\n",
    "\n",
    "plt.plot(leopard['update_interval'], leopard['throughput'], '-o')\n",
    "plt.plot(metis['update_interval'], metis['throughput'], '-*')\n",
    "plt.legend(['Incremental', 'From scratch'], loc='upper left')\n",
    "plt.xlabel('Update interval (minutes)')\n",
    "plt.ylabel('Throughput (#tweets / second)')\n",
    "plt.ylim([100, 1400])\n",
    "plt.title('Throughput vs update interval')\n",
    "plt.savefig('figs/throughput_comparison.pdf')"
   ]
  },
  {
   "cell_type": "code",
   "execution_count": null,
   "metadata": {
    "collapsed": true
   },
   "outputs": [],
   "source": [
    "tag2log, running_stat, top_hashtags_by_time, tag2g = ()\n",
    "hottest_h = max(tag2g, key=lambda k: tag2g[k].number_of_nodes())"
   ]
  },
  {
   "cell_type": "code",
   "execution_count": null,
   "metadata": {
    "collapsed": false
   },
   "outputs": [],
   "source": [
    "g = tag2g[hottest_h]\n",
    "log = tag2log[hottest_h]"
   ]
  },
  {
   "cell_type": "code",
   "execution_count": null,
   "metadata": {
    "collapsed": false
   },
   "outputs": [],
   "source": [
    "df = pd.DataFrame.from_dict(log)"
   ]
  },
  {
   "cell_type": "code",
   "execution_count": null,
   "metadata": {
    "collapsed": false
   },
   "outputs": [],
   "source": [
    "df.plot(x='time', y='rwc', ylim=[0.5, 1])"
   ]
  },
  {
   "cell_type": "code",
   "execution_count": null,
   "metadata": {
    "collapsed": false
   },
   "outputs": [],
   "source": [
    "df.plot(x='time', y='graph_size')"
   ]
  },
  {
   "cell_type": "code",
   "execution_count": null,
   "metadata": {
    "collapsed": false
   },
   "outputs": [],
   "source": [
    "df.plot(x='time', y='cut_ratio')"
   ]
  }
 ],
 "metadata": {
  "kernelspec": {
   "display_name": "Python 3",
   "language": "python",
   "name": "python3"
  },
  "language_info": {
   "codemirror_mode": {
    "name": "ipython",
    "version": 3
   },
   "file_extension": ".py",
   "mimetype": "text/x-python",
   "name": "python",
   "nbconvert_exporter": "python",
   "pygments_lexer": "ipython3",
   "version": "3.5.2"
  }
 },
 "nbformat": 4,
 "nbformat_minor": 0
}
