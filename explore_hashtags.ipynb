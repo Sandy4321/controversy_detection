{
 "cells": [
  {
   "cell_type": "code",
   "execution_count": 52,
   "metadata": {
    "collapsed": true
   },
   "outputs": [],
   "source": [
    "import networkx as nx\n",
    "import numpy as np\n",
    "from glob import glob\n",
    "import pandas as pd\n",
    "from collections import defaultdict, Counter\n",
    "import metis"
   ]
  },
  {
   "cell_type": "code",
   "execution_count": 53,
   "metadata": {
    "collapsed": true
   },
   "outputs": [],
   "source": [
    "dfs = [pd.read_pickle(p) for p in glob('data/retweets_16july/*.pkl')]"
   ]
  },
  {
   "cell_type": "code",
   "execution_count": 54,
   "metadata": {
    "collapsed": false
   },
   "outputs": [],
   "source": [
    "df = pd.concat(dfs, axis=0)"
   ]
  },
  {
   "cell_type": "code",
   "execution_count": 55,
   "metadata": {
    "collapsed": false
   },
   "outputs": [
    {
     "data": {
      "text/plain": [
       "(5900000, 5)"
      ]
     },
     "execution_count": 55,
     "metadata": {},
     "output_type": "execute_result"
    }
   ],
   "source": [
    "df.shape"
   ]
  },
  {
   "cell_type": "code",
   "execution_count": 56,
   "metadata": {
    "collapsed": false
   },
   "outputs": [
    {
     "data": {
      "text/plain": [
       "MTVHottest             149496\n",
       "VeranoMTV2016           74301\n",
       "TeenChoice              60509\n",
       "DemsInPhilly            35817\n",
       "RNCinCLE                33963\n",
       "ALDUB1stAnniversary     29560\n",
       "PokemonGO               26041\n",
       "BlackLivesMatter        23308\n",
       "MGWV                    22753\n",
       "etsy                    16810\n",
       "Name: hashtag, dtype: int64"
      ]
     },
     "execution_count": 56,
     "metadata": {},
     "output_type": "execute_result"
    }
   ],
   "source": [
    "df['hashtag'].value_counts()[:10]"
   ]
  },
  {
   "cell_type": "code",
   "execution_count": 57,
   "metadata": {
    "collapsed": true
   },
   "outputs": [],
   "source": [
    "tag = 'MTVHottest'\n",
    "hdf = df[df['hashtag'] == tag]"
   ]
  },
  {
   "cell_type": "code",
   "execution_count": 58,
   "metadata": {
    "collapsed": true
   },
   "outputs": [],
   "source": [
    "def build_graph_from_df(df):\n",
    "    g = nx.Graph()\n",
    "    for _, r in df.iterrows():\n",
    "        g.add_edge(r['retweeter'], r['retweetee'])\n",
    "    return g"
   ]
  },
  {
   "cell_type": "code",
   "execution_count": 59,
   "metadata": {
    "collapsed": false
   },
   "outputs": [],
   "source": [
    "subg = build_graph_from_df(hdf)\n",
    "nx.write_gpickle(subg, 'data/{}.gpkl'.format(tag.lower()))\n",
    "hdf.to_pickle('data/{}.pkl'.format(tag.lower()))"
   ]
  },
  {
   "cell_type": "code",
   "execution_count": 60,
   "metadata": {
    "collapsed": false
   },
   "outputs": [
    {
     "name": "stdout",
     "output_type": "stream",
     "text": [
      "\n",
      "    #nodes: 63335,\n",
      "    #edges: 105826,\n",
      "    size of top-3 component: [57440, 24, 19]\n",
      "    ratio of top-3 components: [  9.06923502e-01   3.78937396e-04   2.99992105e-04]\n",
      "    \n"
     ]
    }
   ],
   "source": [
    "describe_graph(subg)"
   ]
  },
  {
   "cell_type": "code",
   "execution_count": 61,
   "metadata": {
    "collapsed": false
   },
   "outputs": [
    {
     "name": "stdout",
     "output_type": "stream",
     "text": [
      "k=63\n",
      "rwc score 0.14267341512460024\n"
     ]
    }
   ],
   "source": [
    "from rwc import controversy_score\n",
    "print('rwc score {}'.format(controversy_score(subg)))"
   ]
  },
  {
   "cell_type": "code",
   "execution_count": 2,
   "metadata": {
    "collapsed": true
   },
   "outputs": [],
   "source": [
    "df = pd.read_pickle('data/retweets_test.pkl')"
   ]
  },
  {
   "cell_type": "code",
   "execution_count": 10,
   "metadata": {
    "collapsed": false
   },
   "outputs": [],
   "source": [
    "retweets_by_hashtags = defaultdict(list)\n",
    "for i, r in df.iterrows():    \n",
    "    for h in r['hashtags']:\n",
    "        retweets_by_hashtags[h].append(r.to_dict())"
   ]
  },
  {
   "cell_type": "code",
   "execution_count": 26,
   "metadata": {
    "collapsed": false
   },
   "outputs": [
    {
     "name": "stdout",
     "output_type": "stream",
     "text": [
      "Top 10 frequent tags: ['AMAs', 'ALDUB16thMonthsary', 'ALDUBMomAndDad', 'VoiceSaveAaron', 'TeenWolf', 'ARIASONEDIRECTION', 'MannequinChallenge', 'Trump', 'NoDAPL', 'ARIASJUSTINBIEBER']\n"
     ]
    }
   ],
   "source": [
    "tag2freq = Counter({h: len(retweets_by_hashtags[h])\n",
    "                    for h in retweets_by_hashtags})\n",
    "# print(tag2freq.most_common(10))\n",
    "top_tags = [h for h, _ in tag2freq.most_common(10)]\n",
    "print('Top 10 frequent tags: {}'.format(top_tags))"
   ]
  },
  {
   "cell_type": "code",
   "execution_count": 27,
   "metadata": {
    "collapsed": true
   },
   "outputs": [],
   "source": [
    "def build_graph_from_retweets(rts):\n",
    "    g = nx.Graph()  # QUESTION: directed or undirected?\n",
    "    g.add_edges_from((r['retweeter'], r['retweetee']) for r in rts)\n",
    "    return g"
   ]
  },
  {
   "cell_type": "code",
   "execution_count": 24,
   "metadata": {
    "collapsed": true
   },
   "outputs": [],
   "source": [
    "def describe_graph(g):\n",
    "    components = list(nx.connected_components(g))\n",
    "    top_cc_sizes = list(sorted(map(len, components), reverse=True))[:3]\n",
    "    top_cc_ratios = np.array(top_cc_sizes) / g.number_of_nodes()\n",
    "    print(\"\"\"\n",
    "    #nodes: {},\n",
    "    #edges: {},\n",
    "    size of top-3 component: {}\n",
    "    ratio of top-3 components: {}\n",
    "    \"\"\".format(\n",
    "            g.number_of_nodes(),\n",
    "            g.number_of_edges(),\n",
    "            top_cc_sizes,\n",
    "            top_cc_ratios\n",
    "        ))"
   ]
  },
  {
   "cell_type": "code",
   "execution_count": 40,
   "metadata": {
    "collapsed": true
   },
   "outputs": [],
   "source": [
    "graph_by_hashtag = {\n",
    "    h: build_graph_from_retweets(retweets_by_hashtags[h])\n",
    "    for h in top_tags}"
   ]
  },
  {
   "cell_type": "code",
   "execution_count": 44,
   "metadata": {
    "collapsed": false
   },
   "outputs": [
    {
     "name": "stdout",
     "output_type": "stream",
     "text": [
      "Hashtag: ALDUB16thMonthsary\n",
      "\n",
      "    #nodes: 1417,\n",
      "    #edges: 1535,\n",
      "    size of top-3 component: [1153, 9, 8]\n",
      "    ratio of top-3 components: [ 0.8136909   0.00635145  0.00564573]\n",
      "    \n",
      "Hashtag: ARIASJUSTINBIEBER\n",
      "\n",
      "    #nodes: 683,\n",
      "    #edges: 632,\n",
      "    size of top-3 component: [404, 8, 8]\n",
      "    ratio of top-3 components: [ 0.59150805  0.01171303  0.01171303]\n",
      "    \n",
      "Hashtag: VoiceSaveAaron\n",
      "\n",
      "    #nodes: 1473,\n",
      "    #edges: 1353,\n",
      "    size of top-3 component: [987, 18, 8]\n",
      "    ratio of top-3 components: [ 0.6700611   0.01221996  0.00543109]\n",
      "    \n",
      "Hashtag: AMAs\n",
      "\n",
      "    #nodes: 8188,\n",
      "    #edges: 8910,\n",
      "    size of top-3 component: [5619, 171, 66]\n",
      "    ratio of top-3 components: [ 0.68624817  0.02088422  0.00806058]\n",
      "    \n",
      "Hashtag: ARIASONEDIRECTION\n",
      "\n",
      "    #nodes: 1198,\n",
      "    #edges: 1186,\n",
      "    size of top-3 component: [771, 18, 10]\n",
      "    ratio of top-3 components: [ 0.64357262  0.01502504  0.00834725]\n",
      "    \n",
      "Hashtag: NoDAPL\n",
      "\n",
      "    #nodes: 908,\n",
      "    #edges: 703,\n",
      "    size of top-3 component: [184, 60, 24]\n",
      "    ratio of top-3 components: [ 0.20264317  0.0660793   0.02643172]\n",
      "    \n",
      "Hashtag: ALDUBMomAndDad\n",
      "\n",
      "    #nodes: 1416,\n",
      "    #edges: 1425,\n",
      "    size of top-3 component: [1023, 12, 10]\n",
      "    ratio of top-3 components: [ 0.72245763  0.00847458  0.00706215]\n",
      "    \n",
      "Hashtag: MannequinChallenge\n",
      "\n",
      "    #nodes: 1100,\n",
      "    #edges: 830,\n",
      "    size of top-3 component: [103, 80, 70]\n",
      "    ratio of top-3 components: [ 0.09363636  0.07272727  0.06363636]\n",
      "    \n",
      "Hashtag: Trump\n",
      "\n",
      "    #nodes: 1005,\n",
      "    #edges: 698,\n",
      "    size of top-3 component: [62, 51, 48]\n",
      "    ratio of top-3 components: [ 0.06169154  0.05074627  0.04776119]\n",
      "    \n",
      "Hashtag: TeenWolf\n",
      "\n",
      "    #nodes: 1406,\n",
      "    #edges: 1294,\n",
      "    size of top-3 component: [1065, 21, 12]\n",
      "    ratio of top-3 components: [ 0.75746799  0.01493599  0.00853485]\n",
      "    \n"
     ]
    }
   ],
   "source": [
    "# some general statistics\n",
    "for h, g in list(graph_by_hashtag.items())[:]:\n",
    "    print(\"Hashtag: {}\".format(h))\n",
    "    describe_graph(g)"
   ]
  },
  {
   "cell_type": "code",
   "execution_count": 37,
   "metadata": {
    "collapsed": true
   },
   "outputs": [],
   "source": [
    "def largest_connected_subgraph(g):\n",
    "    ccs = nx.connected_components(g)\n",
    "    nodes = max(ccs, key=len)\n",
    "    return g.subgraph(nodes)"
   ]
  },
  {
   "cell_type": "code",
   "execution_count": 38,
   "metadata": {
    "collapsed": false
   },
   "outputs": [
    {
     "name": "stdout",
     "output_type": "stream",
     "text": [
      "hashtag: ALDUB16thMonthsary\n",
      "    cut ratio: 0.05213613323678494\n",
      "    \n",
      "hashtag: ARIASJUSTINBIEBER\n",
      "    cut ratio: 0.03547671840354767\n",
      "    \n",
      "hashtag: VoiceSaveAaron\n",
      "    cut ratio: 0.01644100580270793\n",
      "    \n",
      "hashtag: AMAs\n",
      "    cut ratio: 0.006196310378819884\n",
      "    \n",
      "hashtag: ARIASONEDIRECTION\n",
      "    cut ratio: 0.03732162458836443\n",
      "    \n",
      "hashtag: NoDAPL\n",
      "    cut ratio: 0.016216216216216217\n",
      "    \n",
      "hashtag: ALDUBMomAndDad\n",
      "    cut ratio: 0.036020583190394515\n",
      "    \n",
      "hashtag: MannequinChallenge\n",
      "    cut ratio: 0.49019607843137253\n",
      "    \n",
      "hashtag: Trump\n",
      "    cut ratio: 0.5081967213114754\n",
      "    \n",
      "hashtag: TeenWolf\n",
      "    cut ratio: 0.33519553072625696\n",
      "    \n"
     ]
    }
   ],
   "source": [
    "for h, g in graph_by_hashtag.items():\n",
    "    subg = largest_connected_subgraph(g)\n",
    "    cuts, parts = metis.part_graph(subg, 2)\n",
    "    print(\"\"\"hashtag: {}\n",
    "    cut ratio: {}\n",
    "    \"\"\".format(h,\n",
    "               cuts / subg.number_of_edges()))"
   ]
  }
 ],
 "metadata": {
  "kernelspec": {
   "display_name": "Python 3",
   "language": "python",
   "name": "python3"
  },
  "language_info": {
   "codemirror_mode": {
    "name": "ipython",
    "version": 3
   },
   "file_extension": ".py",
   "mimetype": "text/x-python",
   "name": "python",
   "nbconvert_exporter": "python",
   "pygments_lexer": "ipython3",
   "version": "3.5.2"
  }
 },
 "nbformat": 4,
 "nbformat_minor": 0
}
