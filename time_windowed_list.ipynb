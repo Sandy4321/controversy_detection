{
 "cells": [
  {
   "cell_type": "code",
   "execution_count": 41,
   "metadata": {
    "collapsed": false
   },
   "outputs": [],
   "source": [
    "class tw_list():\n",
    "    def __init__(self, data=[], timestamps=[]):\n",
    "        assert len(data) == len(timestamps)\n",
    "        self.data = data\n",
    "        self.ts = timestamps\n",
    "        \n",
    "    def remove_before_time(self, t):\n",
    "        i = 0\n",
    "        while self.ts[i] <= t:\n",
    "            i += 1\n",
    "        self.ts = self.ts[i:]\n",
    "        self.data = self.data[i:]\n",
    "        \n",
    "    def append(self, e, t):\n",
    "        self.data.append(e)\n",
    "        self.ts.append(t)\n",
    "        \n",
    "    def __repr__(self):\n",
    "        return ', '.join(map(lambda t: '{0}({1})'.format(t[0], t[1]),\n",
    "                             zip(self.data, self.ts)))"
   ]
  },
  {
   "cell_type": "code",
   "execution_count": 42,
   "metadata": {
    "collapsed": true
   },
   "outputs": [],
   "source": [
    "l = tw_list()"
   ]
  },
  {
   "cell_type": "code",
   "execution_count": 43,
   "metadata": {
    "collapsed": false
   },
   "outputs": [],
   "source": [
    "l.append('a', 0)\n",
    "l.append('b', 1)\n",
    "l.append('c', 2)"
   ]
  },
  {
   "cell_type": "code",
   "execution_count": 44,
   "metadata": {
    "collapsed": false
   },
   "outputs": [],
   "source": [
    "l.remove_before_time(0)"
   ]
  },
  {
   "cell_type": "code",
   "execution_count": 45,
   "metadata": {
    "collapsed": false
   },
   "outputs": [
    {
     "data": {
      "text/plain": [
       "b(1), c(2)"
      ]
     },
     "execution_count": 45,
     "metadata": {},
     "output_type": "execute_result"
    }
   ],
   "source": [
    "l"
   ]
  }
 ],
 "metadata": {
  "kernelspec": {
   "display_name": "Python 3",
   "language": "python",
   "name": "python3"
  },
  "language_info": {
   "codemirror_mode": {
    "name": "ipython",
    "version": 3
   },
   "file_extension": ".py",
   "mimetype": "text/x-python",
   "name": "python",
   "nbconvert_exporter": "python",
   "pygments_lexer": "ipython3",
   "version": "3.5.2"
  }
 },
 "nbformat": 4,
 "nbformat_minor": 0
}
