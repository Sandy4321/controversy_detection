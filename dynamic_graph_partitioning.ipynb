{
 "cells": [
  {
   "cell_type": "code",
   "execution_count": 15,
   "metadata": {
    "collapsed": false
   },
   "outputs": [],
   "source": [
    "%matplotlib inline\n",
    "import networkx as nx\n",
    "import metis\n",
    "import random\n",
    "from tqdm import tqdm\n",
    "from itertools import chain\n",
    "from matplotlib import pyplot as plt\n",
    "from collections import Counter, defaultdict\n",
    "import pandas as pd"
   ]
  },
  {
   "cell_type": "code",
   "execution_count": 2,
   "metadata": {
    "collapsed": false
   },
   "outputs": [],
   "source": [
    "GAMMA = 1.5"
   ]
  },
  {
   "cell_type": "code",
   "execution_count": 3,
   "metadata": {
    "collapsed": true
   },
   "outputs": [],
   "source": [
    "def get_alpha(g, k=2, gamma=GAMMA):\n",
    "    return np.sqrt(k) * g.number_of_edges() / np.power(g.number_of_nodes(), GAMMA)"
   ]
  },
  {
   "cell_type": "code",
   "execution_count": 4,
   "metadata": {
    "collapsed": false
   },
   "outputs": [],
   "source": [
    "def attempt_reassignment(g, n, partition, node2cluster, gamma, alpha):    \n",
    "    c_star = best_cluster_id(g, n, partition, gamma, alpha)\n",
    "    did_it = False\n",
    "    if node2cluster[n] != c_star:\n",
    "        partition[node2cluster[n]].remove(n)\n",
    "        partition[c_star].add(n)\n",
    "        node2cluster[n] = c_star\n",
    "        did_it = True\n",
    "    return did_it, partition, node2cluster\n",
    "\n",
    "def best_cluster_id(g, u, part, gamma, alpha):\n",
    "    \"\"\"part: dict(cluster_id, set of node)\n",
    "             the partition information\n",
    "        alpha, gamma: balancing parameter\"\"\"\n",
    "    N_u = set(g.neighbors(u))\n",
    "    def score(c):\n",
    "        s = (len(part[c].intersection(N_u)) -\n",
    "                alpha * gamma / 2 * np.power(len(part[c]), gamma-1))\n",
    "        return s\n",
    "    return max(part, key=score)"
   ]
  },
  {
   "cell_type": "code",
   "execution_count": 5,
   "metadata": {
    "collapsed": false
   },
   "outputs": [],
   "source": [
    "def update_partition(g, node_cluster_ids, k=2,\n",
    "                     edges_to_add=[], edges_to_remove=[],\n",
    "                     gamma=GAMMA,\n",
    "                     verbose=True):\n",
    "    \"\"\"\n",
    "    incrementally update the partitioning\n",
    "\n",
    "    node_cluster_ids: list of cluster ids\n",
    "    \n",
    "    return:\n",
    "        list of updated cluster ids\n",
    "    \"\"\"\n",
    "    if len(edges_to_add) == 0 and len(edges_to_remove) == 0:\n",
    "        print('nothing to update')\n",
    "        return node_cluster_ids\n",
    "    \n",
    "    partition = defaultdict(set)  # cluster id to list of nodes\n",
    "    for p, n in zip(node_cluster_ids, g.nodes_iter()):\n",
    "        partition[p].add(n)\n",
    "    node2cluster = dict(zip(g.nodes(), node_cluster_ids))  # node to cluster id\n",
    "    \n",
    "    # print(node2cluster)\n",
    "    g.add_edges_from(edges_to_add)\n",
    "    g.remove_edges_from(edges_to_remove)\n",
    "\n",
    "    alpha = get_alpha(g, gamma=gamma)\n",
    "    params = {'gamma': gamma, 'alpha': alpha}\n",
    "    edge_iters = chain(edges_to_add, edges_to_remove)\n",
    "    if verbose:\n",
    "        iters = tqdm(edge_iters)\n",
    "\n",
    "    for u, v in edge_iters:\n",
    "        if verbose:\n",
    "            print('edge ({}, {})'.format(u, v))\n",
    "        affected_nodes = set()\n",
    "        did_it, partition, node2cluster = attempt_reassignment(g, u,\n",
    "                                                               partition,\n",
    "                                                               node2cluster,\n",
    "                                                               **params)\n",
    "        if did_it:\n",
    "            if verbose:\n",
    "                print('moved node {}'.format(u))\n",
    "            affected_nodes |= set(g.neighbors(u))\n",
    "        did_it, partition, node2cluster = attempt_reassignment(g, v,\n",
    "                                                               partition,\n",
    "                                                               node2cluster,\n",
    "                                                               **params)\n",
    "        if did_it:\n",
    "            if verbose:\n",
    "                print('moved node {}'.format(v))\n",
    "            affected_nodes |= set(g.neighbors(v))\n",
    "\n",
    "        for n in affected_nodes:\n",
    "            if True:\n",
    "                did_it, partition, node2cluster = attempt_reassignment(\n",
    "                    g, n, partition, node2cluster, **params)\n",
    "                if verbose:\n",
    "                    if did_it:\n",
    "                        print('moved node {}'.format(n))      \n",
    "                    else:\n",
    "                        print('{} stayed'.format(n))\n",
    "\n",
    "    return [node2cluster[n] for n in g.nodes_iter()]"
   ]
  },
  {
   "cell_type": "code",
   "execution_count": 6,
   "metadata": {
    "collapsed": false
   },
   "outputs": [
    {
     "data": {
      "text/plain": [
       "<matplotlib.text.Text at 0x7f003694dda0>"
      ]
     },
     "execution_count": 6,
     "metadata": {},
     "output_type": "execute_result"
    },
    {
     "data": {
      "image/png": "[encoded data removed]",
      "text/plain": [
       "<matplotlib.figure.Figure at 0x7f0036c01ba8>"
      ]
     },
     "metadata": {},
     "output_type": "display_data"
    }
   ],
   "source": [
    "g = nx.barbell_graph(5, 1)\n",
    "g.add_edge(3, 5)\n",
    "\n",
    "_, part = metis.part_graph(g, 2)\n",
    "\n",
    "nx.draw_networkx(g, font_color='white', node_color=part)\n",
    "plt.title('Before adding edges')"
   ]
  },
  {
   "cell_type": "code",
   "execution_count": 7,
   "metadata": {
    "collapsed": false
   },
   "outputs": [
    {
     "name": "stderr",
     "output_type": "stream",
     "text": [
      "\r",
      "0it [00:00, ?it/s]"
     ]
    },
    {
     "name": "stdout",
     "output_type": "stream",
     "text": [
      "edge (5, 7)\n",
      "moved node 5\n",
      "8 stayed\n",
      "3 stayed\n",
      "4 stayed\n",
      "6 stayed\n",
      "7 stayed\n",
      "edge (5, 8)\n"
     ]
    },
    {
     "name": "stderr",
     "output_type": "stream",
     "text": [
      "\n"
     ]
    },
    {
     "data": {
      "text/plain": [
       "<matplotlib.text.Text at 0x7f003182a0f0>"
      ]
     },
     "execution_count": 7,
     "metadata": {},
     "output_type": "execute_result"
    },
    {
     "data": {
      "image/png": "[encoded data removed]",
      "text/plain": [
       "<matplotlib.figure.Figure at 0x7f0036c019e8>"
      ]
     },
     "metadata": {},
     "output_type": "display_data"
    }
   ],
   "source": [
    "part = update_partition(g, node_cluster_ids=part, edges_to_add=[(5, 7), (5, 8)])\n",
    "nx.draw_networkx(g, font_color='white', node_color=part)\n",
    "plt.title('After adding edges and repartitioning')"
   ]
  },
  {
   "cell_type": "code",
   "execution_count": 8,
   "metadata": {
    "collapsed": false
   },
   "outputs": [
    {
     "name": "stderr",
     "output_type": "stream",
     "text": [
      "\r",
      "0it [00:00, ?it/s]"
     ]
    },
    {
     "name": "stdout",
     "output_type": "stream",
     "text": [
      "edge (5, 7)\n",
      "moved node 5\n",
      "3 stayed\n",
      "4 stayed\n",
      "6 stayed\n",
      "edge (5, 8)\n"
     ]
    },
    {
     "name": "stderr",
     "output_type": "stream",
     "text": [
      "\n"
     ]
    },
    {
     "data": {
      "text/plain": [
       "<matplotlib.text.Text at 0x7f0031822d30>"
      ]
     },
     "execution_count": 8,
     "metadata": {},
     "output_type": "execute_result"
    },
    {
     "data": {
      "image/png": "[encoded data removed]",
      "text/plain": [
       "<matplotlib.figure.Figure at 0x7f00318499e8>"
      ]
     },
     "metadata": {},
     "output_type": "display_data"
    }
   ],
   "source": [
    "part = update_partition(g, node_cluster_ids=part, edges_to_remove=[(5, 7), (5, 8)])\n",
    "nx.draw_networkx(g, font_color='white', node_color=part)\n",
    "plt.title('After removing edges and repartitioning')"
   ]
  },
  {
   "cell_type": "code",
   "execution_count": 18,
   "metadata": {
    "collapsed": false
   },
   "outputs": [],
   "source": [
    "def performance(g, updated_cluster_ids, raw_cuts, raw_cluster_ids):\n",
    "    partition = defaultdict(set)\n",
    "    for n, c in zip(g.nodes_iter(), updated_cluster_ids):\n",
    "        partition[c].add(n)\n",
    "\n",
    "    c1, c2 = list(partition.values())\n",
    "    cuts = 0.0\n",
    "    for u, v in tqdm(g.edges_iter()):\n",
    "        if (u in c1 and v in c2) or (u in c2 and v in c1):\n",
    "            cuts += 1\n",
    "    r1 = cuts / g.number_of_edges()\n",
    "    size_1 = (len(c1), len(c2))\n",
    "    \n",
    "    r2 = raw_cuts / g.number_of_edges()     \n",
    "    size_2 = tuple(Counter(raw_cluster_ids).values())\n",
    "    return {'cut_ratio_1': r1, \n",
    "            'cut_ratio_2': r2,\n",
    "            'size_1': size_1,\n",
    "            'size_2': size_2}"
   ]
  },
  {
   "cell_type": "code",
   "execution_count": 10,
   "metadata": {
    "collapsed": false
   },
   "outputs": [
    {
     "name": "stderr",
     "output_type": "stream",
     "text": [
      "23it [00:00, 191406.73it/s]\n"
     ]
    },
    {
     "data": {
      "text/plain": [
       "{'cut_ratio_1': 0.043478260869565216,\n",
       " 'cut_ratio_2': 0.043478260869565216,\n",
       " 'size_1': (5, 6),\n",
       " 'size_2': (5, 6)}"
      ]
     },
     "execution_count": 10,
     "metadata": {},
     "output_type": "execute_result"
    }
   ],
   "source": [
    "cuts, raw_parts = metis.part_graph(g, 2)\n",
    "performance(g, part, cuts, raw_parts)"
   ]
  },
  {
   "cell_type": "code",
   "execution_count": 11,
   "metadata": {
    "collapsed": true
   },
   "outputs": [],
   "source": [
    "def sample_edges_to_add(g, n_edges_to_add):\n",
    "    n = 0\n",
    "    edges_to_add = []\n",
    "    nodes = g.nodes()\n",
    "    while n < n_edges_to_add:\n",
    "        while True:\n",
    "            u = v = random.choice(nodes)\n",
    "            while u == v:\n",
    "                v = random.choice(nodes)\n",
    "            if not g.has_edge(u, v):\n",
    "                edges_to_add.append((u, v))\n",
    "                break\n",
    "        n += 1\n",
    "    return edges_to_add                "
   ]
  },
  {
   "cell_type": "code",
   "execution_count": 12,
   "metadata": {
    "collapsed": false
   },
   "outputs": [],
   "source": [
    "# test\n",
    "assert len(sample_edges_to_add(g, 10)) == 10\n",
    "for e in sample_edges_to_add(g, 10):\n",
    "    assert not g.has_edge(*e)"
   ]
  },
  {
   "cell_type": "code",
   "execution_count": 30,
   "metadata": {
    "collapsed": false,
    "scrolled": true
   },
   "outputs": [
    {
     "name": "stderr",
     "output_type": "stream",
     "text": [
      "\r",
      "  0%|          | 0/8 [00:00<?, ?it/s]"
     ]
    },
    {
     "name": "stdout",
     "output_type": "stream",
     "text": [
      "circular\n"
     ]
    },
    {
     "name": "stderr",
     "output_type": "stream",
     "text": [
      "\n",
      "0it [00:00, ?it/s]\u001b[A\n",
      " 12%|█▎        | 1/8 [00:03<00:22,  3.16s/it]"
     ]
    },
    {
     "name": "stdout",
     "output_type": "stream",
     "text": [
      "barbell_1000_0\n"
     ]
    },
    {
     "name": "stderr",
     "output_type": "stream",
     "text": [
      "\n",
      "0it [00:00, ?it/s]\u001b[A\n",
      "144045it [00:00, 1425490.57it/s]\u001b[A\n",
      "281180it [00:00, 1408802.10it/s]\u001b[A\n",
      "417403it [00:00, 1394496.84it/s]\u001b[A\n",
      "536111it [00:00, 1320785.67it/s]\u001b[A\n",
      "677966it [00:00, 1348667.78it/s]\u001b[A\n",
      "821274it [00:00, 1372927.96it/s]\u001b[A\n",
      "952216it [00:00, 1353237.41it/s]\u001b[A\n",
      " 25%|██▌       | 2/8 [01:12<02:18, 23.14s/it]"
     ]
    },
    {
     "name": "stdout",
     "output_type": "stream",
     "text": [
      "mtvhottest\n"
     ]
    },
    {
     "name": "stderr",
     "output_type": "stream",
     "text": [
      "\n",
      "0it [00:00, ?it/s]\u001b[A\n",
      "70631it [00:00, 706308.99it/s]\u001b[A\n",
      " 38%|███▊      | 3/8 [01:24<01:38, 19.75s/it]"
     ]
    },
    {
     "name": "stdout",
     "output_type": "stream",
     "text": [
      "star\n"
     ]
    },
    {
     "name": "stderr",
     "output_type": "stream",
     "text": [
      "\n",
      "0it [00:00, ?it/s]\u001b[A\n",
      " 50%|█████     | 4/8 [02:14<01:55, 28.78s/it]"
     ]
    },
    {
     "name": "stdout",
     "output_type": "stream",
     "text": [
      "beefban\n"
     ]
    },
    {
     "name": "stderr",
     "output_type": "stream",
     "text": [
      "\n",
      "0it [00:00, ?it/s]\u001b[A\n",
      " 62%|██████▎   | 5/8 [02:17<01:03, 21.08s/it]"
     ]
    },
    {
     "name": "stdout",
     "output_type": "stream",
     "text": [
      "baltimore\n"
     ]
    },
    {
     "name": "stderr",
     "output_type": "stream",
     "text": [
      "\n",
      "0it [00:00, ?it/s]\u001b[A\n",
      "66912it [00:00, 669114.26it/s]\u001b[A\n",
      "118468it [00:00, 614208.67it/s]\u001b[A\n",
      " 75%|███████▌  | 6/8 [02:30<00:37, 18.74s/it]"
     ]
    },
    {
     "name": "stdout",
     "output_type": "stream",
     "text": [
      "ukraine\n"
     ]
    },
    {
     "name": "stderr",
     "output_type": "stream",
     "text": [
      "\n",
      "0it [00:00, ?it/s]\u001b[A\n",
      "68244it [00:00, 682435.77it/s]\u001b[A\n",
      " 88%|████████▊ | 7/8 [02:38<00:15, 15.24s/it]"
     ]
    },
    {
     "name": "stdout",
     "output_type": "stream",
     "text": [
      "barabasi\n"
     ]
    },
    {
     "name": "stderr",
     "output_type": "stream",
     "text": [
      "\n",
      "0it [00:00, ?it/s]\u001b[A\n",
      "57306it [00:00, 573056.45it/s]\u001b[A\n",
      "116290it [00:00, 577990.12it/s]\u001b[A\n",
      "100%|██████████| 8/8 [02:44<00:00, 12.73s/it]\n"
     ]
    }
   ],
   "source": [
    "# Experiment on real networks\n",
    "from glob import glob\n",
    "from time import time\n",
    "\n",
    "\n",
    "add_edges_percent = 0.1\n",
    "remove_edges_percent = 0.1\n",
    "\n",
    "rows = []\n",
    "for path in tqdm(glob('data/*.gpkl')):\n",
    "    name = os.path.basename(path).split('.')[0]\n",
    "    print(name)\n",
    "    g = nx.read_gpickle(path)\n",
    "    _, parts = metis.part_graph(g, 2)\n",
    "    \n",
    "    edges_to_remove = random.sample(g.edges(), int(g.number_of_edges() * remove_edges_percent))\n",
    "    edges_to_add = sample_edges_to_add(g, int(g.number_of_edges() * add_edges_percent))\n",
    "\n",
    "    s = time()\n",
    "    \n",
    "    updated_parts = update_partition(g, \n",
    "                                     node_cluster_ids=parts,\n",
    "                                     edges_to_add=edges_to_add,\n",
    "                                     edges_to_remove=edges_to_remove,\n",
    "                                     verbose=False)\n",
    "    takes_time_1 = time() - s\n",
    "    \n",
    "    s = time()\n",
    "    raw_cuts, raw_parts = metis.part_graph(g, 2)\n",
    "    takes_time_2 = time() - s\n",
    "    \n",
    "    stat = performance(g, updated_parts, raw_cuts, raw_parts)\n",
    "    stat['name'] = name\n",
    "    stat['running_time_1'] = takes_time_1\n",
    "    stat['running_time_2'] = takes_time_2\n",
    "    rows.append(stat)"
   ]
  },
  {
   "cell_type": "code",
   "execution_count": 31,
   "metadata": {
    "collapsed": false
   },
   "outputs": [],
   "source": [
    "df = pd.DataFrame.from_records(rows)"
   ]
  },
  {
   "cell_type": "code",
   "execution_count": 32,
   "metadata": {
    "collapsed": false
   },
   "outputs": [
    {
     "data": {
      "text/html": [
       "<div>\n",
       "<table border=\"1\" class=\"dataframe\">\n",
       "  <thead>\n",
       "    <tr style=\"text-align: right;\">\n",
       "      <th></th>\n",
       "      <th>cut_ratio_1</th>\n",
       "      <th>cut_ratio_2</th>\n",
       "      <th>name</th>\n",
       "      <th>running_time_1</th>\n",
       "      <th>running_time_2</th>\n",
       "      <th>size_1</th>\n",
       "      <th>size_2</th>\n",
       "    </tr>\n",
       "  </thead>\n",
       "  <tbody>\n",
       "    <tr>\n",
       "      <th>0</th>\n",
       "      <td>0.045920</td>\n",
       "      <td>0.009440</td>\n",
       "      <td>circular</td>\n",
       "      <td>0.681479</td>\n",
       "      <td>0.986356</td>\n",
       "      <td>(25001, 24999)</td>\n",
       "      <td>(24999, 25001)</td>\n",
       "    </tr>\n",
       "    <tr>\n",
       "      <th>1</th>\n",
       "      <td>0.095585</td>\n",
       "      <td>0.095585</td>\n",
       "      <td>barbell_1000_0</td>\n",
       "      <td>58.217181</td>\n",
       "      <td>4.451923</td>\n",
       "      <td>(1000, 1000)</td>\n",
       "      <td>(1000, 1000)</td>\n",
       "    </tr>\n",
       "  </tbody>\n",
       "</table>\n",
       "</div>"
      ],
      "text/plain": [
       "   cut_ratio_1  cut_ratio_2            name  running_time_1  running_time_2  \\\n",
       "0     0.045920     0.009440        circular        0.681479        0.986356   \n",
       "1     0.095585     0.095585  barbell_1000_0       58.217181        4.451923   \n",
       "\n",
       "           size_1          size_2  \n",
       "0  (25001, 24999)  (24999, 25001)  \n",
       "1    (1000, 1000)    (1000, 1000)  "
      ]
     },
     "execution_count": 32,
     "metadata": {},
     "output_type": "execute_result"
    }
   ],
   "source": [
    "df.head(2)"
   ]
  },
  {
   "cell_type": "code",
   "execution_count": 49,
   "metadata": {
    "collapsed": false
   },
   "outputs": [
    {
     "data": {
      "text/plain": [
       "<matplotlib.legend.Legend at 0x7f001744f898>"
      ]
     },
     "execution_count": 49,
     "metadata": {},
     "output_type": "execute_result"
    },
    {
     "data": {
      "image/png": "[encoded data removed]",
      "text/plain": [
       "<matplotlib.figure.Figure at 0x7f001b054eb8>"
      ]
     },
     "metadata": {},
     "output_type": "display_data"
    }
   ],
   "source": [
    "# cut ratio\n",
    "fig, ax = plt.subplots()\n",
    "\n",
    "N = df.shape[0]\n",
    "ind = np.arange(N)\n",
    "width = 0.35\n",
    "\n",
    "ax.bar(ind, df['cut_ratio_1'], width, color='red')\n",
    "ax.bar(ind+width, df['cut_ratio_2'], width, color='blue')\n",
    "\n",
    "ax.set_xticks(ind + width)\n",
    "ax.set_xticklabels(df['name'])\n",
    "ax.set_ylabel('cut ratio')\n",
    "ax.set_title('Cut ratio comparison')\n",
    "fig.set_figwidth(10)\n",
    "ax.legend(['Leopard', 'Metis'])"
   ]
  },
  {
   "cell_type": "code",
   "execution_count": 50,
   "metadata": {
    "collapsed": false
   },
   "outputs": [
    {
     "data": {
      "text/plain": [
       "<matplotlib.legend.Legend at 0x7f0017b2f860>"
      ]
     },
     "execution_count": 50,
     "metadata": {},
     "output_type": "execute_result"
    },
    {
     "data": {
      "image/png": "[encoded data removed]",
      "text/plain": [
       "<matplotlib.figure.Figure at 0x7f00181571d0>"
      ]
     },
     "metadata": {},
     "output_type": "display_data"
    }
   ],
   "source": [
    "# cut ratio\n",
    "fig, ax = plt.subplots()\n",
    "\n",
    "N = df.shape[0]\n",
    "ind = np.arange(N)\n",
    "width = 0.35\n",
    "\n",
    "ax.bar(ind, df['running_time_1'], width, color='red')\n",
    "ax.bar(ind+width, df['running_time_2'], width, color='blue')\n",
    "\n",
    "ax.set_xticks(ind + width)\n",
    "ax.set_xticklabels(df['name'])\n",
    "ax.set_ylabel('running time (seconds)')\n",
    "ax.set_title('Running time comparison')\n",
    "fig.set_figwidth(10)\n",
    "ax.legend(['Leopard', 'Metis'])"
   ]
  }
 ],
 "metadata": {
  "kernelspec": {
   "display_name": "Python 3",
   "language": "python",
   "name": "python3"
  },
  "language_info": {
   "codemirror_mode": {
    "name": "ipython",
    "version": 3
   },
   "file_extension": ".py",
   "mimetype": "text/x-python",
   "name": "python",
   "nbconvert_exporter": "python",
   "pygments_lexer": "ipython3",
   "version": "3.5.2"
  }
 },
 "nbformat": 4,
 "nbformat_minor": 0
}
