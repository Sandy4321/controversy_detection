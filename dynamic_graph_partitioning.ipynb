{
 "cells": [
  {
   "cell_type": "code",
   "execution_count": 1,
   "metadata": {
    "collapsed": false
   },
   "outputs": [],
   "source": [
    "%matplotlib inline\n",
    "import networkx as nx\n",
    "import metis\n",
    "import random\n",
    "from tqdm import tqdm\n",
    "from itertools import chain\n",
    "from matplotlib import pyplot as plt\n",
    "from collections import Counter, defaultdict"
   ]
  },
  {
   "cell_type": "code",
   "execution_count": 2,
   "metadata": {
    "collapsed": false
   },
   "outputs": [],
   "source": [
    "GAMMA = 1.5"
   ]
  },
  {
   "cell_type": "code",
   "execution_count": 3,
   "metadata": {
    "collapsed": true
   },
   "outputs": [],
   "source": [
    "def get_alpha(g, k=2, gamma=GAMMA):\n",
    "    return np.sqrt(k) * g.number_of_edges() / np.power(g.number_of_nodes(), GAMMA)"
   ]
  },
  {
   "cell_type": "code",
   "execution_count": 4,
   "metadata": {
    "collapsed": false
   },
   "outputs": [],
   "source": [
    "def attempt_reassignment(g, n, partition, node2cluster, gamma, alpha):    \n",
    "    c_star = best_cluster_id(g, n, partition, gamma, alpha)\n",
    "    did_it = False\n",
    "    if node2cluster[n] != c_star:\n",
    "        partition[node2cluster[n]].remove(n)\n",
    "        partition[c_star].add(n)\n",
    "        node2cluster[n] = c_star\n",
    "        did_it = True\n",
    "    return did_it, partition, node2cluster\n",
    "\n",
    "def best_cluster_id(g, u, part, gamma, alpha):\n",
    "    \"\"\"part: dict(cluster_id, set of node)\n",
    "             the partition information\n",
    "        alpha, gamma: balancing parameter\"\"\"\n",
    "    N_u = set(g.neighbors(u))\n",
    "    def score(c):\n",
    "        s = (len(part[c].intersection(N_u)) -\n",
    "                alpha * gamma / 2 * np.power(len(part[c]), gamma-1))\n",
    "        return s\n",
    "    return max(part, key=score)"
   ]
  },
  {
   "cell_type": "code",
   "execution_count": 12,
   "metadata": {
    "collapsed": false
   },
   "outputs": [],
   "source": [
    "def update_partition(g, node_cluster_ids, k=2,\n",
    "                     edges_to_add=[], edges_to_remove=[],\n",
    "                     gamma=GAMMA,\n",
    "                     verbose=True):\n",
    "    \"\"\"\n",
    "    incrementally update the partitioning\n",
    "\n",
    "    node_cluster_ids: list of cluster ids\n",
    "    \n",
    "    return:\n",
    "        list of updated cluster ids\n",
    "    \"\"\"\n",
    "    if len(edges_to_add) == 0 and len(edges_to_remove) == 0:\n",
    "        print('nothing to update')\n",
    "        return node_cluster_ids\n",
    "    \n",
    "    partition = defaultdict(set)  # cluster id to list of nodes\n",
    "    for p, n in zip(node_cluster_ids, g.nodes_iter()):\n",
    "        partition[p].add(n)\n",
    "    node2cluster = dict(zip(g.nodes(), part))  # node to cluster id\n",
    "    \n",
    "    g.add_edges_from(edges_to_add)\n",
    "    g.remove_edges_from(edges_to_remove)\n",
    "\n",
    "    alpha = get_alpha(g, gamma=gamma)\n",
    "    params = {'gamma': gamma, 'alpha': alpha}\n",
    "    for u, v in tqdm(chain(edges_to_add, edges_to_remove)):\n",
    "        if verbose:\n",
    "            print('edge ({}, {})'.format(u, v))\n",
    "        affected_nodes = set()\n",
    "        did_it, partition, node2cluster = attempt_reassignment(g, u,\n",
    "                                                               partition,\n",
    "                                                               node2cluster,\n",
    "                                                               **params)\n",
    "        if did_it:\n",
    "            if verbose:\n",
    "                print('moved node {}'.format(u))\n",
    "            affected_nodes |= set(g.neighbors(u))\n",
    "        did_it, partition, node2cluster = attempt_reassignment(g, v,\n",
    "                                                               partition,\n",
    "                                                               node2cluster,\n",
    "                                                               **params)\n",
    "        if did_it:\n",
    "            if verbose:\n",
    "                print('moved node {}'.format(v))\n",
    "            affected_nodes |= set(g.neighbors(v))\n",
    "\n",
    "        for n in affected_nodes:\n",
    "            if True:\n",
    "                did_it, partition, node2cluster = attempt_reassignment(\n",
    "                    g, n, partition, node2cluster, **params)\n",
    "                if verbose:\n",
    "                    if did_it:\n",
    "                        print('moved node {}'.format(n))      \n",
    "                    else:\n",
    "                        print('{} stayed'.format(n))\n",
    "\n",
    "    return [node2cluster[n] for n in g.nodes_iter()]"
   ]
  },
  {
   "cell_type": "code",
   "execution_count": 6,
   "metadata": {
    "collapsed": false
   },
   "outputs": [
    {
     "data": {
      "text/plain": [
       "<matplotlib.text.Text at 0x7f3a78f00cc0>"
      ]
     },
     "execution_count": 6,
     "metadata": {},
     "output_type": "execute_result"
    },
    {
     "data": {
      "image/png": "[encoded data removed]",
      "text/plain": [
       "<matplotlib.figure.Figure at 0x7f3a791b0940>"
      ]
     },
     "metadata": {},
     "output_type": "display_data"
    }
   ],
   "source": [
    "g = nx.barbell_graph(5, 1)\n",
    "g.add_edge(3, 5)\n",
    "\n",
    "_, part = metis.part_graph(g, 2)\n",
    "\n",
    "nx.draw_networkx(g, font_color='white', node_color=part)\n",
    "plt.title('Before adding edges')"
   ]
  },
  {
   "cell_type": "code",
   "execution_count": 7,
   "metadata": {
    "collapsed": false
   },
   "outputs": [
    {
     "name": "stderr",
     "output_type": "stream",
     "text": [
      "2it [00:00, 4297.44it/s]"
     ]
    },
    {
     "name": "stdout",
     "output_type": "stream",
     "text": [
      "edge (5, 7)\n",
      "moved node 5\n",
      "8 stayed\n",
      "3 stayed\n",
      "4 stayed\n",
      "6 stayed\n",
      "7 stayed\n",
      "edge (5, 8)\n"
     ]
    },
    {
     "name": "stderr",
     "output_type": "stream",
     "text": [
      "\n"
     ]
    },
    {
     "data": {
      "text/plain": [
       "<matplotlib.text.Text at 0x7f3a785e2080>"
      ]
     },
     "execution_count": 7,
     "metadata": {},
     "output_type": "execute_result"
    },
    {
     "data": {
      "image/png": "[encoded data removed]",
      "text/plain": [
       "<matplotlib.figure.Figure at 0x7f3a78685b38>"
      ]
     },
     "metadata": {},
     "output_type": "display_data"
    }
   ],
   "source": [
    "part = update_partition(g, node_cluster_ids=part, edges_to_add=[(5, 7), (5, 8)])\n",
    "nx.draw_networkx(g, font_color='white', node_color=part)\n",
    "plt.title('After adding edges and repartitioning')"
   ]
  },
  {
   "cell_type": "code",
   "execution_count": 8,
   "metadata": {
    "collapsed": false
   },
   "outputs": [
    {
     "name": "stderr",
     "output_type": "stream",
     "text": [
      "2it [00:00, 5246.16it/s]"
     ]
    },
    {
     "name": "stdout",
     "output_type": "stream",
     "text": [
      "edge (5, 7)\n",
      "moved node 5\n",
      "3 stayed\n",
      "4 stayed\n",
      "6 stayed\n",
      "edge (5, 8)\n"
     ]
    },
    {
     "name": "stderr",
     "output_type": "stream",
     "text": [
      "\n"
     ]
    },
    {
     "data": {
      "text/plain": [
       "<matplotlib.text.Text at 0x7f3a785610b8>"
      ]
     },
     "execution_count": 8,
     "metadata": {},
     "output_type": "execute_result"
    },
    {
     "data": {
      "image/png": "[encoded data removed]",
      "text/plain": [
       "<matplotlib.figure.Figure at 0x7f3a785b4e10>"
      ]
     },
     "metadata": {},
     "output_type": "display_data"
    }
   ],
   "source": [
    "part = update_partition(g, node_cluster_ids=part, edges_to_remove=[(5, 7), (5, 8)])\n",
    "nx.draw_networkx(g, font_color='white', node_color=part)\n",
    "plt.title('After removing edges and repartitioning')"
   ]
  },
  {
   "cell_type": "code",
   "execution_count": 9,
   "metadata": {
    "collapsed": false
   },
   "outputs": [],
   "source": [
    "def performance(g, updated_cluster_ids, raw_cuts, raw_cluster_ids):\n",
    "    partition = defaultdict(set)\n",
    "    for n, c in zip(g.nodes_iter(), part):\n",
    "        partition[c].add(n)\n",
    "\n",
    "    c1, c2 = list(partition.values())\n",
    "    cuts = 0\n",
    "    for u, v in tqdm(g.edges_iter()):\n",
    "        if (u in c1 and v in c2) or (u in c2 and v in c1):\n",
    "            cuts += 1\n",
    "    r1 = cuts / g.number_of_edges()\n",
    "    size_1 = (len(c1), len(c2))\n",
    "    \n",
    "    r2 = raw_cuts / g.number_of_edges()     \n",
    "    size_2 = tuple(Counter(raw_cluster_ids).values())\n",
    "    return {'ratio': (r1, r2),\n",
    "            'size': (size_1, size_2)}"
   ]
  },
  {
   "cell_type": "code",
   "execution_count": 10,
   "metadata": {
    "collapsed": false
   },
   "outputs": [
    {
     "name": "stderr",
     "output_type": "stream",
     "text": [
      "23it [00:00, 246723.76it/s]\n"
     ]
    },
    {
     "data": {
      "text/plain": [
       "{'ratio': (0.043478260869565216, 0.043478260869565216),\n",
       " 'size': ((5, 6), (5, 6))}"
      ]
     },
     "execution_count": 10,
     "metadata": {},
     "output_type": "execute_result"
    }
   ],
   "source": [
    "cuts, raw_parts = metis.part_graph(g, 2)\n",
    "performance(g, part, cuts, raw_parts)"
   ]
  },
  {
   "cell_type": "code",
   "execution_count": 13,
   "metadata": {
    "collapsed": false,
    "scrolled": true
   },
   "outputs": [
    {
     "name": "stderr",
     "output_type": "stream",
     "text": [
      "\r",
      "  0%|          | 0/8 [00:00<?, ?it/s]"
     ]
    },
    {
     "name": "stdout",
     "output_type": "stream",
     "text": [
      "data/circular.gpkl\n",
      "nothing to update\n"
     ]
    },
    {
     "name": "stderr",
     "output_type": "stream",
     "text": [
      "\n",
      "0it [00:00, ?it/s]\u001b[A\n",
      " 12%|█▎        | 1/8 [00:01<00:10,  1.54s/it]"
     ]
    },
    {
     "name": "stdout",
     "output_type": "stream",
     "text": [
      "data/barbell_1000_0.gpkl\n",
      "nothing to update\n"
     ]
    },
    {
     "name": "stderr",
     "output_type": "stream",
     "text": [
      "\n",
      "0it [00:00, ?it/s]\u001b[A\n",
      "124330it [00:00, 1243298.22it/s]\u001b[A\n",
      "242892it [00:00, 1225413.44it/s]\u001b[A\n",
      "365250it [00:00, 1224860.55it/s]\u001b[A\n",
      "478866it [00:00, 1196828.90it/s]\u001b[A\n",
      "597356it [00:00, 1193222.85it/s]\u001b[A\n",
      "695905it [00:00, 1110778.00it/s]\u001b[A\n",
      "815687it [00:00, 1135469.91it/s]\u001b[A\n",
      "939429it [00:00, 1164245.06it/s]\u001b[A\n",
      " 25%|██▌       | 2/8 [00:11<00:24,  4.10s/it]"
     ]
    },
    {
     "name": "stdout",
     "output_type": "stream",
     "text": [
      "data/mtvhottest.gpkl\n",
      "nothing to update\n"
     ]
    },
    {
     "name": "stderr",
     "output_type": "stream",
     "text": [
      "\n",
      "0it [00:00, ?it/s]\u001b[A\n",
      "81060it [00:00, 810598.84it/s]\u001b[A\n",
      " 38%|███▊      | 3/8 [00:15<00:20,  4.04s/it]"
     ]
    },
    {
     "name": "stdout",
     "output_type": "stream",
     "text": [
      "data/star.gpkl\n",
      "nothing to update\n"
     ]
    },
    {
     "name": "stderr",
     "output_type": "stream",
     "text": [
      "\n",
      "0it [00:00, ?it/s]\u001b[A\n",
      " 50%|█████     | 4/8 [00:16<00:12,  3.24s/it]"
     ]
    },
    {
     "name": "stdout",
     "output_type": "stream",
     "text": [
      "data/beefban.gpkl\n",
      "nothing to update\n"
     ]
    },
    {
     "name": "stderr",
     "output_type": "stream",
     "text": [
      "\n",
      "0it [00:00, ?it/s]\u001b[A\n",
      " 62%|██████▎   | 5/8 [00:18<00:07,  2.64s/it]"
     ]
    },
    {
     "name": "stdout",
     "output_type": "stream",
     "text": [
      "data/baltimore.gpkl\n",
      "nothing to update\n"
     ]
    },
    {
     "name": "stderr",
     "output_type": "stream",
     "text": [
      "\n",
      "0it [00:00, ?it/s]\u001b[A\n",
      "105603it [00:00, 1056015.90it/s]\u001b[A\n",
      " 75%|███████▌  | 6/8 [00:23<00:06,  3.31s/it]"
     ]
    },
    {
     "name": "stdout",
     "output_type": "stream",
     "text": [
      "data/ukraine.gpkl\n",
      "nothing to update\n"
     ]
    },
    {
     "name": "stderr",
     "output_type": "stream",
     "text": [
      "\n",
      "0it [00:00, ?it/s]\u001b[A\n",
      "94542it [00:00, 945411.89it/s]\u001b[A\n",
      " 88%|████████▊ | 7/8 [00:26<00:03,  3.29s/it]"
     ]
    },
    {
     "name": "stdout",
     "output_type": "stream",
     "text": [
      "data/barabasi.gpkl\n",
      "nothing to update\n"
     ]
    },
    {
     "name": "stderr",
     "output_type": "stream",
     "text": [
      "\n",
      "0it [00:00, ?it/s]\u001b[A\n",
      "121019it [00:00, 1210173.84it/s]\u001b[A\n",
      "100%|██████████| 8/8 [00:29<00:00,  3.22s/it]\n"
     ]
    }
   ],
   "source": [
    "# Experiment on real networks\n",
    "from glob import glob\n",
    "from time import time\n",
    "\n",
    "\n",
    "rows = []\n",
    "for path in tqdm(glob('data/*.gpkl')):\n",
    "    print(path)\n",
    "    g = nx.read_gpickle(path)\n",
    "    _, parts = metis.part_graph(g, 2)\n",
    "    s = time()\n",
    "    updated_parts = update_partition(g, node_cluster_ids=parts, verbose=False)\n",
    "    takes_time_1 = time() - s\n",
    "    \n",
    "    s = time()\n",
    "    raw_cuts, raw_parts = metis.part_graph(g, 2)\n",
    "    takes_time_2 = time() - s\n",
    "    \n",
    "    stat = performance(g, updated_parts, raw_cuts, raw_parts)\n",
    "    stat['name'] = path\n",
    "    stat['running_time'] = (takes_time_1, takes_time_2)\n",
    "    rows.append(stat)"
   ]
  },
  {
   "cell_type": "code",
   "execution_count": 14,
   "metadata": {
    "collapsed": false
   },
   "outputs": [
    {
     "data": {
      "text/plain": [
       "[{'name': 'data/circular.gpkl',\n",
       "  'ratio': (2e-05, 4e-05),\n",
       "  'running_time': (0.0002791881561279297, 0.553736686706543),\n",
       "  'size': ((5, 6), (25000, 25000))},\n",
       " {'name': 'data/barbell_1000_0.gpkl',\n",
       "  'ratio': (3.002999996997e-05, 1.000999998999e-06),\n",
       "  'running_time': (0.0008504390716552734, 4.043878555297852),\n",
       "  'size': ((5, 6), (1000, 1000))},\n",
       " {'name': 'data/mtvhottest.gpkl',\n",
       "  'ratio': (0.0, 0.005716931566911723),\n",
       "  'running_time': (0.0001819133758544922, 1.363112211227417),\n",
       "  'size': ((5, 6), (31898, 31437))},\n",
       " {'name': 'data/star.gpkl',\n",
       "  'ratio': (0.0001, 0.485),\n",
       "  'running_time': (0.0006005764007568359, 0.5381162166595459),\n",
       "  'size': ((5, 6), (24250, 25751))},\n",
       " {'name': 'data/beefban.gpkl',\n",
       "  'ratio': (0.0, 0.04667154352596928),\n",
       "  'running_time': (0.0003304481506347656, 0.4363102912902832),\n",
       "  'size': ((5, 6), (13681, 14504))},\n",
       " {'name': 'data/baltimore.gpkl',\n",
       "  'ratio': (0.0, 0.07997247075017205),\n",
       "  'running_time': (0.0007874965667724609, 1.9379253387451172),\n",
       "  'size': ((5, 6), (46951, 47029))},\n",
       " {'name': 'data/ukraine.gpkl',\n",
       "  'ratio': (0.0, 0.03686094747409695),\n",
       "  'running_time': (0.0004420280456542969, 1.1959888935089111),\n",
       "  'size': ((5, 6), (28157, 28107))},\n",
       " {'name': 'data/barabasi.gpkl',\n",
       "  'ratio': (8.000480028801728e-05, 0.23152722496683134),\n",
       "  'running_time': (0.00025200843811035156, 1.2203097343444824),\n",
       "  'size': ((5, 6), (25730, 24270))}]"
      ]
     },
     "execution_count": 14,
     "metadata": {},
     "output_type": "execute_result"
    }
   ],
   "source": [
    "rows"
   ]
  }
 ],
 "metadata": {
  "kernelspec": {
   "display_name": "Python 3",
   "language": "python",
   "name": "python3"
  },
  "language_info": {
   "codemirror_mode": {
    "name": "ipython",
    "version": 3
   },
   "file_extension": ".py",
   "mimetype": "text/x-python",
   "name": "python",
   "nbconvert_exporter": "python",
   "pygments_lexer": "ipython3",
   "version": "3.5.2"
  }
 },
 "nbformat": 4,
 "nbformat_minor": 0
}
