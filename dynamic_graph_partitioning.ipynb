{
 "cells": [
  {
   "cell_type": "code",
   "execution_count": 20,
   "metadata": {
    "collapsed": false
   },
   "outputs": [],
   "source": [
    "%matplotlib inline\n",
    "import networkx as nx\n",
    "import metis\n",
    "import random\n",
    "import string\n",
    "from tqdm import tqdm\n",
    "from itertools import chain\n",
    "from matplotlib import pyplot as plt\n",
    "from collections import Counter, defaultdict\n",
    "import pandas as pd"
   ]
  },
  {
   "cell_type": "code",
   "execution_count": 21,
   "metadata": {
    "collapsed": false
   },
   "outputs": [],
   "source": [
    "GAMMA = 1.5"
   ]
  },
  {
   "cell_type": "code",
   "execution_count": 22,
   "metadata": {
    "collapsed": true
   },
   "outputs": [],
   "source": [
    "def get_alpha(g, k=2, gamma=GAMMA):\n",
    "    return np.sqrt(k) * g.number_of_edges() / np.power(g.number_of_nodes(), GAMMA)"
   ]
  },
  {
   "cell_type": "code",
   "execution_count": 37,
   "metadata": {
    "collapsed": false
   },
   "outputs": [],
   "source": [
    "def attempt_reassignment(g, n, partition, node2cluster, gamma, alpha):    \n",
    "    c_star = best_cluster_id(g, n, partition, gamma, alpha)\n",
    "    did_it = False\n",
    "    node_exist = (n in node2cluster)\n",
    "    if node_exist:\n",
    "        if node2cluster[n] != c_star:\n",
    "            partition[node2cluster[n]].remove(n)\n",
    "            partition[c_star].add(n)\n",
    "            node2cluster[n] = c_star\n",
    "            did_it = True\n",
    "    else:\n",
    "        partition[c_star].add(n)\n",
    "        node2cluster[n] = c_star\n",
    "        did_it = True\n",
    "    return did_it, partition, node2cluster\n",
    "\n",
    "def best_cluster_id(g, u, part, gamma, alpha):\n",
    "    \"\"\"part: dict(cluster_id, set of node)\n",
    "             the partition information\n",
    "        alpha, gamma: balancing parameter\"\"\"\n",
    "    N_u = set(g.neighbors(u))\n",
    "    def score(c):\n",
    "        s = (len(part[c].intersection(N_u)) -\n",
    "                alpha * gamma / 2 * np.power(len(part[c]), gamma-1))\n",
    "        return s\n",
    "    return max(part, key=score)"
   ]
  },
  {
   "cell_type": "code",
   "execution_count": 38,
   "metadata": {
    "collapsed": false
   },
   "outputs": [],
   "source": [
    "def update_partition(g, node_cluster_ids, k=2,\n",
    "                     edges_to_add=[], edges_to_remove=[],\n",
    "                     gamma=GAMMA,\n",
    "                     verbose=True):\n",
    "    \"\"\"\n",
    "    incrementally update the partitioning\n",
    "\n",
    "    node_cluster_ids: list of cluster ids\n",
    "    \n",
    "    return:\n",
    "        list of updated cluster ids\n",
    "        \n",
    "    note that edges are added/removed inside this function\n",
    "    \"\"\"\n",
    "    if len(edges_to_add) == 0 and len(edges_to_remove) == 0:\n",
    "        print('nothing to update')\n",
    "        return node_cluster_ids\n",
    "    \n",
    "    partition = defaultdict(set)  # cluster id to list of nodes\n",
    "    for p, n in zip(node_cluster_ids, g.nodes_iter()):\n",
    "        partition[p].add(n)\n",
    "    node2cluster = dict(zip(g.nodes(), node_cluster_ids))  # node to cluster id\n",
    "    \n",
    "    # print(node2cluster)\n",
    "    g.add_edges_from(edges_to_add)\n",
    "    g.remove_edges_from(edges_to_remove)\n",
    "\n",
    "    alpha = get_alpha(g, gamma=gamma)\n",
    "    params = {'gamma': gamma, 'alpha': alpha}\n",
    "    edge_iters = chain(edges_to_add, edges_to_remove)\n",
    "    if verbose:\n",
    "        iters = tqdm(edge_iters)\n",
    "\n",
    "    for u, v in edge_iters:\n",
    "        if verbose:\n",
    "            print('edge ({}, {})'.format(u, v))\n",
    "        affected_nodes = set()\n",
    "        did_it, partition, node2cluster = attempt_reassignment(g, u,\n",
    "                                                               partition,\n",
    "                                                               node2cluster,\n",
    "                                                               **params)\n",
    "        if did_it:\n",
    "            if verbose:\n",
    "                print('moved node {}'.format(u))\n",
    "            affected_nodes |= set(g.neighbors(u))\n",
    "        did_it, partition, node2cluster = attempt_reassignment(g, v,\n",
    "                                                               partition,\n",
    "                                                               node2cluster,\n",
    "                                                               **params)\n",
    "        if did_it:\n",
    "            if verbose:\n",
    "                print('moved node {}'.format(v))\n",
    "            affected_nodes |= set(g.neighbors(v))\n",
    "\n",
    "        for n in affected_nodes:\n",
    "            if True:\n",
    "                did_it, partition, node2cluster = attempt_reassignment(\n",
    "                    g, n, partition, node2cluster, **params)\n",
    "                if verbose:\n",
    "                    if did_it:\n",
    "                        print('moved node {}'.format(n))      \n",
    "                    else:\n",
    "                        print('{} stayed'.format(n))\n",
    "\n",
    "    return [node2cluster[n] for n in g.nodes_iter()]"
   ]
  },
  {
   "cell_type": "code",
   "execution_count": 45,
   "metadata": {
    "collapsed": false
   },
   "outputs": [
    {
     "data": {
      "text/plain": [
       "<matplotlib.text.Text at 0x7feac019fe10>"
      ]
     },
     "execution_count": 45,
     "metadata": {},
     "output_type": "execute_result"
    },
    {
     "data": {
      "image/png": "[encoded data removed]",
      "text/plain": [
       "<matplotlib.figure.Figure at 0x7feac2cb3518>"
      ]
     },
     "metadata": {},
     "output_type": "display_data"
    }
   ],
   "source": [
    "g = nx.barbell_graph(5, 1)\n",
    "g.add_edge(3, 5)\n",
    "\n",
    "_, part = metis.part_graph(g, 2)\n",
    "\n",
    "nx.draw_networkx(g, font_color='white', node_color=part)\n",
    "plt.title('Before adding edges')"
   ]
  },
  {
   "cell_type": "code",
   "execution_count": 46,
   "metadata": {
    "collapsed": false
   },
   "outputs": [
    {
     "name": "stderr",
     "output_type": "stream",
     "text": [
      "\n",
      "\r",
      "0it [00:00, ?it/s]"
     ]
    },
    {
     "name": "stdout",
     "output_type": "stream",
     "text": [
      "edge (5, 7)\n",
      "moved node 5\n",
      "8 stayed\n",
      "3 stayed\n",
      "4 stayed\n",
      "6 stayed\n",
      "7 stayed\n",
      "edge (5, 8)\n",
      "edge (0, 11)\n",
      "moved node 11\n",
      "0 stayed\n"
     ]
    },
    {
     "name": "stderr",
     "output_type": "stream",
     "text": [
      "\u001b[A\n",
      "\u001b[A"
     ]
    },
    {
     "data": {
      "text/plain": [
       "<matplotlib.text.Text at 0x7feab9ee6908>"
      ]
     },
     "execution_count": 46,
     "metadata": {},
     "output_type": "execute_result"
    },
    {
     "data": {
      "image/png": "[encoded data removed]",
      "text/plain": [
       "<matplotlib.figure.Figure at 0x7feabb773400>"
      ]
     },
     "metadata": {},
     "output_type": "display_data"
    }
   ],
   "source": [
    "part = update_partition(g, node_cluster_ids=part, edges_to_add=[(5, 7), (5, 8), (0, 11)])\n",
    "nx.draw_networkx(g, font_color='white', node_color=part)\n",
    "plt.title('After adding edges and repartitioning')"
   ]
  },
  {
   "cell_type": "code",
   "execution_count": 47,
   "metadata": {
    "collapsed": false
   },
   "outputs": [
    {
     "name": "stderr",
     "output_type": "stream",
     "text": [
      "\n",
      "\r",
      "0it [00:00, ?it/s]"
     ]
    },
    {
     "name": "stdout",
     "output_type": "stream",
     "text": [
      "edge (5, 7)\n",
      "moved node 5\n",
      "3 stayed\n",
      "4 stayed\n",
      "6 stayed\n",
      "edge (5, 8)\n"
     ]
    },
    {
     "name": "stderr",
     "output_type": "stream",
     "text": [
      "\u001b[A\n",
      "\u001b[A"
     ]
    },
    {
     "data": {
      "text/plain": [
       "<matplotlib.text.Text at 0x7feab7064f60>"
      ]
     },
     "execution_count": 47,
     "metadata": {},
     "output_type": "execute_result"
    },
    {
     "data": {
      "image/png": "[encoded data removed]",
      "text/plain": [
       "<matplotlib.figure.Figure at 0x7feabb773588>"
      ]
     },
     "metadata": {},
     "output_type": "display_data"
    }
   ],
   "source": [
    "part = update_partition(g, node_cluster_ids=part, edges_to_remove=[(5, 7), (5, 8)])\n",
    "nx.draw_networkx(g, font_color='white', node_color=part)\n",
    "plt.title('After removing edges and repartitioning')"
   ]
  },
  {
   "cell_type": "code",
   "execution_count": 28,
   "metadata": {
    "collapsed": false
   },
   "outputs": [],
   "source": [
    "def performance(g, updated_cluster_ids, raw_cuts, raw_cluster_ids):\n",
    "    partition = defaultdict(set)\n",
    "    for n, c in zip(g.nodes_iter(), updated_cluster_ids):\n",
    "        partition[c].add(n)\n",
    "\n",
    "    c1, c2 = list(partition.values())\n",
    "    cuts = 0.0\n",
    "    for u, v in tqdm(g.edges_iter()):\n",
    "        if (u in c1 and v in c2) or (u in c2 and v in c1):\n",
    "            cuts += 1\n",
    "    r1 = cuts / g.number_of_edges()\n",
    "    size_1 = (len(c1), len(c2))\n",
    "    \n",
    "    r2 = raw_cuts / g.number_of_edges()     \n",
    "    size_2 = tuple(Counter(raw_cluster_ids).values())\n",
    "    return {'cut_ratio_1': r1, \n",
    "            'cut_ratio_2': r2,\n",
    "            'size_1': size_1,\n",
    "            'size_2': size_2}"
   ]
  },
  {
   "cell_type": "code",
   "execution_count": 29,
   "metadata": {
    "collapsed": false
   },
   "outputs": [
    {
     "name": "stderr",
     "output_type": "stream",
     "text": [
      "23it [00:00, 182706.42it/s]\n"
     ]
    },
    {
     "data": {
      "text/plain": [
       "{'cut_ratio_1': 0.043478260869565216,\n",
       " 'cut_ratio_2': 0.043478260869565216,\n",
       " 'size_1': (5, 6),\n",
       " 'size_2': (5, 6)}"
      ]
     },
     "execution_count": 29,
     "metadata": {},
     "output_type": "execute_result"
    }
   ],
   "source": [
    "cuts, raw_parts = metis.part_graph(g, 2)\n",
    "performance(g, part, cuts, raw_parts)"
   ]
  },
  {
   "cell_type": "code",
   "execution_count": 30,
   "metadata": {
    "collapsed": false
   },
   "outputs": [],
   "source": [
    "def sample_edges_to_add(g, n_edges_to_add,\n",
    "                        unknown_nodes_pool=list(string.ascii_lowercase)):\n",
    "    n = 0\n",
    "    edges_to_add = []\n",
    "    nodes = g.nodes()\n",
    "    while n < n_edges_to_add:\n",
    "        while True:\n",
    "            u = v = random.choice(nodes)\n",
    "                                                                                                                                                              \n",
    "            if random.random() > 0.5:  # 0.5 proba to sample unknown nodes                                                                                    \n",
    "                edges_to_add.append((u, random.choice(unknown_nodes_pool)))\n",
    "                break\n",
    "            else:  # 0.5 proba to sample existing edge                                                                                                        \n",
    "                while u == v:\n",
    "                    v = random.choice(nodes)\n",
    "                if not g.has_edge(u, v):\n",
    "                    edges_to_add.append((u, v))\n",
    "                    break\n",
    "        n += 1\n",
    "    return edges_to_add"
   ]
  },
  {
   "cell_type": "code",
   "execution_count": 31,
   "metadata": {
    "collapsed": false
   },
   "outputs": [],
   "source": [
    "# test\n",
    "assert len(sample_edges_to_add(g, 10)) == 10\n",
    "for e in sample_edges_to_add(g, 10):\n",
    "    assert not g.has_edge(*e)"
   ]
  },
  {
   "cell_type": "code",
   "execution_count": 39,
   "metadata": {
    "collapsed": false,
    "scrolled": true
   },
   "outputs": [
    {
     "name": "stderr",
     "output_type": "stream",
     "text": [
      "\r",
      "  0%|          | 0/8 [00:00<?, ?it/s]"
     ]
    },
    {
     "name": "stdout",
     "output_type": "stream",
     "text": [
      "circular\n"
     ]
    },
    {
     "name": "stderr",
     "output_type": "stream",
     "text": [
      "\n",
      "0it [00:00, ?it/s]\u001b[A\n",
      "43879it [00:00, 438785.19it/s]\u001b[A\n",
      " 12%|█▎        | 1/8 [00:01<00:13,  1.88s/it]"
     ]
    },
    {
     "name": "stdout",
     "output_type": "stream",
     "text": [
      "mtvhottest\n"
     ]
    },
    {
     "name": "stderr",
     "output_type": "stream",
     "text": [
      "\n",
      "0it [00:00, ?it/s]\u001b[A\n",
      "43339it [00:00, 433384.21it/s]\u001b[A\n",
      "91052it [00:00, 445637.80it/s]\u001b[A\n",
      " 25%|██▌       | 2/8 [00:05<00:15,  2.54s/it]"
     ]
    },
    {
     "name": "stdout",
     "output_type": "stream",
     "text": [
      "barbell\n"
     ]
    },
    {
     "name": "stderr",
     "output_type": "stream",
     "text": [
      "\n",
      "0it [00:00, ?it/s]\u001b[A\n",
      "138528it [00:00, 1385238.39it/s]\u001b[A\n",
      "282085it [00:00, 1399962.77it/s]\u001b[A\n",
      "423109it [00:00, 1403027.58it/s]\u001b[A\n",
      "546229it [00:00, 1346645.15it/s]\u001b[A\n",
      "702112it [00:00, 1403974.78it/s]\u001b[A\n",
      "845399it [00:00, 1412517.64it/s]\u001b[A\n",
      "976317it [00:00, 1379841.39it/s]\u001b[A\n",
      " 38%|███▊      | 3/8 [00:28<00:43,  8.60s/it]"
     ]
    },
    {
     "name": "stdout",
     "output_type": "stream",
     "text": [
      "star\n"
     ]
    },
    {
     "name": "stderr",
     "output_type": "stream",
     "text": [
      "\n",
      "0it [00:00, ?it/s]\u001b[A\n",
      " 50%|█████     | 4/8 [00:35<00:32,  8.13s/it]"
     ]
    },
    {
     "name": "stdout",
     "output_type": "stream",
     "text": [
      "beefban\n"
     ]
    },
    {
     "name": "stderr",
     "output_type": "stream",
     "text": [
      "\n",
      "0it [00:00, ?it/s]\u001b[A\n",
      " 62%|██████▎   | 5/8 [00:37<00:18,  6.09s/it]"
     ]
    },
    {
     "name": "stdout",
     "output_type": "stream",
     "text": [
      "baltimore\n"
     ]
    },
    {
     "name": "stderr",
     "output_type": "stream",
     "text": [
      "\n",
      "0it [00:00, ?it/s]\u001b[A\n",
      "86021it [00:00, 860206.72it/s]\u001b[A\n",
      "144093it [00:00, 751663.75it/s]\u001b[A\n",
      " 75%|███████▌  | 6/8 [00:42<00:11,  5.92s/it]"
     ]
    },
    {
     "name": "stdout",
     "output_type": "stream",
     "text": [
      "ukraine\n"
     ]
    },
    {
     "name": "stderr",
     "output_type": "stream",
     "text": [
      "\n",
      "0it [00:00, ?it/s]\u001b[A\n",
      "74999it [00:00, 749985.35it/s]\u001b[A\n",
      " 88%|████████▊ | 7/8 [00:46<00:05,  5.30s/it]"
     ]
    },
    {
     "name": "stdout",
     "output_type": "stream",
     "text": [
      "barabasi\n"
     ]
    },
    {
     "name": "stderr",
     "output_type": "stream",
     "text": [
      "\n",
      "0it [00:00, ?it/s]\u001b[A\n",
      "91415it [00:00, 914144.33it/s]\u001b[A\n",
      "148510it [00:00, 774476.81it/s]\u001b[A\n",
      "100%|██████████| 8/8 [00:50<00:00,  4.95s/it]\n"
     ]
    }
   ],
   "source": [
    "# Experiment on real networks\n",
    "from glob import glob\n",
    "from time import time\n",
    "\n",
    "\n",
    "add_edges_percent = 0.01\n",
    "remove_edges_percent = 0.01\n",
    "\n",
    "rows = []\n",
    "for path in tqdm(glob('data/*.gpkl')):\n",
    "    name = os.path.basename(path).split('.')[0]\n",
    "    print(name)\n",
    "    g = nx.read_gpickle(path)\n",
    "    _, parts = metis.part_graph(g, 2)\n",
    "    \n",
    "    edges_to_remove = random.sample(g.edges(), int(g.number_of_edges() * remove_edges_percent))\n",
    "    edges_to_add = sample_edges_to_add(g, int(g.number_of_edges() * add_edges_percent))\n",
    "\n",
    "    s = time()\n",
    "    \n",
    "    updated_parts = update_partition(g, \n",
    "                                     node_cluster_ids=parts,\n",
    "                                     edges_to_add=edges_to_add,\n",
    "                                     edges_to_remove=edges_to_remove,\n",
    "                                     verbose=False)\n",
    "    takes_time_1 = time() - s\n",
    "    \n",
    "    s = time()\n",
    "    raw_cuts, raw_parts = metis.part_graph(g, 2)\n",
    "    takes_time_2 = time() - s\n",
    "    \n",
    "    stat = performance(g, updated_parts, raw_cuts, raw_parts)\n",
    "    stat['name'] = name\n",
    "    stat['running_time_1'] = takes_time_1\n",
    "    stat['running_time_2'] = takes_time_2\n",
    "    rows.append(stat)"
   ]
  },
  {
   "cell_type": "code",
   "execution_count": 41,
   "metadata": {
    "collapsed": false
   },
   "outputs": [],
   "source": [
    "df = pd.DataFrame.from_records(rows)"
   ]
  },
  {
   "cell_type": "code",
   "execution_count": 42,
   "metadata": {
    "collapsed": false
   },
   "outputs": [
    {
     "data": {
      "text/html": [
       "<div>\n",
       "<table border=\"1\" class=\"dataframe\">\n",
       "  <thead>\n",
       "    <tr style=\"text-align: right;\">\n",
       "      <th></th>\n",
       "      <th>cut_ratio_1</th>\n",
       "      <th>cut_ratio_2</th>\n",
       "      <th>name</th>\n",
       "      <th>running_time_1</th>\n",
       "      <th>running_time_2</th>\n",
       "      <th>size_1</th>\n",
       "      <th>size_2</th>\n",
       "    </tr>\n",
       "  </thead>\n",
       "  <tbody>\n",
       "    <tr>\n",
       "      <th>0</th>\n",
       "      <td>0.004320</td>\n",
       "      <td>0.001000</td>\n",
       "      <td>circular</td>\n",
       "      <td>0.106716</td>\n",
       "      <td>0.659685</td>\n",
       "      <td>(25014, 25012)</td>\n",
       "      <td>(25023, 25003)</td>\n",
       "    </tr>\n",
       "    <tr>\n",
       "      <th>1</th>\n",
       "      <td>0.009941</td>\n",
       "      <td>0.009553</td>\n",
       "      <td>mtvhottest</td>\n",
       "      <td>0.764884</td>\n",
       "      <td>1.191963</td>\n",
       "      <td>(31681, 31680)</td>\n",
       "      <td>(31680, 31681)</td>\n",
       "    </tr>\n",
       "  </tbody>\n",
       "</table>\n",
       "</div>"
      ],
      "text/plain": [
       "   cut_ratio_1  cut_ratio_2        name  running_time_1  running_time_2  \\\n",
       "0     0.004320     0.001000    circular        0.106716        0.659685   \n",
       "1     0.009941     0.009553  mtvhottest        0.764884        1.191963   \n",
       "\n",
       "           size_1          size_2  \n",
       "0  (25014, 25012)  (25023, 25003)  \n",
       "1  (31681, 31680)  (31680, 31681)  "
      ]
     },
     "execution_count": 42,
     "metadata": {},
     "output_type": "execute_result"
    }
   ],
   "source": [
    "df.head(2)"
   ]
  },
  {
   "cell_type": "code",
   "execution_count": 43,
   "metadata": {
    "collapsed": false
   },
   "outputs": [
    {
     "data": {
      "text/plain": [
       "<matplotlib.legend.Legend at 0x7feab579fa20>"
      ]
     },
     "execution_count": 43,
     "metadata": {},
     "output_type": "execute_result"
    },
    {
     "data": {
      "image/png": "[encoded data removed]",
      "text/plain": [
       "<matplotlib.figure.Figure at 0x7fead1547ef0>"
      ]
     },
     "metadata": {},
     "output_type": "display_data"
    }
   ],
   "source": [
    "# cut ratio\n",
    "fig, ax = plt.subplots()\n",
    "\n",
    "N = df.shape[0]\n",
    "ind = np.arange(N)\n",
    "width = 0.35\n",
    "\n",
    "ax.bar(ind, df['cut_ratio_1'], width, color='red')\n",
    "ax.bar(ind+width, df['cut_ratio_2'], width, color='blue')\n",
    "\n",
    "ax.set_xticks(ind + width)\n",
    "ax.set_xticklabels(df['name'])\n",
    "ax.set_ylabel('cut ratio')\n",
    "ax.set_title('Cut ratio comparison')\n",
    "fig.set_figwidth(10)\n",
    "ax.legend(['Leopard', 'Metis'])"
   ]
  },
  {
   "cell_type": "code",
   "execution_count": 44,
   "metadata": {
    "collapsed": false
   },
   "outputs": [
    {
     "data": {
      "text/plain": [
       "<matplotlib.legend.Legend at 0x7feab5ebd6a0>"
      ]
     },
     "execution_count": 44,
     "metadata": {},
     "output_type": "execute_result"
    },
    {
     "data": {
      "image/png": "[encoded data removed]",
      "text/plain": [
       "<matplotlib.figure.Figure at 0x7feaba51d588>"
      ]
     },
     "metadata": {},
     "output_type": "display_data"
    }
   ],
   "source": [
    "# cut ratio\n",
    "fig, ax = plt.subplots()\n",
    "\n",
    "N = df.shape[0]\n",
    "ind = np.arange(N)\n",
    "width = 0.35\n",
    "\n",
    "ax.bar(ind, df['running_time_1'], width, color='red')\n",
    "ax.bar(ind+width, df['running_time_2'], width, color='blue')\n",
    "\n",
    "ax.set_xticks(ind + width)\n",
    "ax.set_xticklabels(df['name'])\n",
    "ax.set_ylabel('running time (seconds)')\n",
    "ax.set_title('Running time comparison')\n",
    "fig.set_figwidth(10)\n",
    "ax.legend(['Leopard', 'Metis'])"
   ]
  }
 ],
 "metadata": {
  "kernelspec": {
   "display_name": "Python 3",
   "language": "python",
   "name": "python3"
  },
  "language_info": {
   "codemirror_mode": {
    "name": "ipython",
    "version": 3
   },
   "file_extension": ".py",
   "mimetype": "text/x-python",
   "name": "python",
   "nbconvert_exporter": "python",
   "pygments_lexer": "ipython3",
   "version": "3.5.2"
  }
 },
 "nbformat": 4,
 "nbformat_minor": 0
}
