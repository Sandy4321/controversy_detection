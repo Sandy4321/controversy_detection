{
 "cells": [
  {
   "cell_type": "code",
   "execution_count": 1,
   "metadata": {
    "collapsed": true
   },
   "outputs": [],
   "source": [
    "%matplotlib inline\n",
    "import networkx as nx\n",
    "import metis\n",
    "import random\n",
    "import pandas as pd\n",
    "from tqdm import tqdm\n",
    "from itertools import chain\n",
    "from matplotlib import pyplot as plt\n",
    "from collections import Counter, defaultdict\n",
    "from time import time\n",
    "from leopard import update_partition"
   ]
  },
  {
   "cell_type": "code",
   "execution_count": 2,
   "metadata": {
    "collapsed": true
   },
   "outputs": [],
   "source": [
    "# update rwc score\n",
    "from rwc import populate_r_and_c\n",
    "def controversy_score(g, parts, top_percent=0.001, nstart0=None, nstart1=None):\n",
    "    \"\"\"consider only two sides only                               \n",
    "    \n",
    "    parts: list of cluster ids, the partitioning information, \n",
    "    \n",
    "    top_percent: percentage of high degree nodes to consider for the c vector           \n",
    "    \n",
    "    nstart1, nstart2: the nstart parameter in networkx.pagerank for both sides\n",
    "        if None, then start from scratch\n",
    "        \n",
    "    returns:\n",
    "    \n",
    "    rwc_score\n",
    "    \n",
    "    aux_info: for example, pagerank for both sides\n",
    "    \"\"\"\n",
    "    k = int(g.number_of_nodes() * top_percent)\n",
    "    if k == 0:\n",
    "        raise ValueError('only contains {} nodes, does not work for percent {}'.format(\n",
    "            g.number_of_nodes(), top_percent))\n",
    "\n",
    "    # cuts, parts = metis.part_graph(g)\n",
    "    aux = lambda p, target: int(target == p)\n",
    "                                                                                                                                                              \n",
    "    # personalization vector                                                                                                                                  \n",
    "    part_sizes = Counter(parts)\n",
    "    e_0 = {n: aux(p, 0) / part_sizes[0] for n, p in zip(g.nodes(), parts)}\n",
    "    e_1 = {n: aux(p, 1) / part_sizes[1] for n, p in zip(g.nodes(), parts)}\n",
    "                                                                                                                                                              \n",
    "    # pagerank scores                                                                                                                                         \n",
    "    pr0 = nx.pagerank(g, alpha=0.85, personalization=e_0, dangling=e_0, max_iter=10000, nstart=nstart0)\n",
    "    pr1 = nx.pagerank(g, alpha=0.85, personalization=e_1, dangling=e_1, max_iter=10000, nstart=nstart1)\n",
    "\n",
    "    # nodes at two sides                                                                                                                                      \n",
    "    nodes0 = [n for n, p in zip(g.nodes(), parts) if p == 0]\n",
    "    nodes1 = [n for n, p in zip(g.nodes(), parts) if p == 1]\n",
    "\n",
    "    r0, c0 = populate_r_and_c(g, pr0, nodes0, k)\n",
    "    r1, c1 = populate_r_and_c(g, pr1, nodes1, k)\n",
    "\n",
    "    r_list = [r0, r1]\n",
    "    c_list = [c0, c1]\n",
    "    rwc = 0\n",
    "    k = len(r_list)\n",
    "    for i, r in enumerate(r_list):\n",
    "        for j, c in enumerate(c_list):\n",
    "            prod = np.sum(r * c)\n",
    "            # print(prod, prod * part_sizes[i])    \n",
    "            if i == j:\n",
    "                rwc += (prod * part_sizes[i])\n",
    "            else:\n",
    "                rwc -= (prod * part_sizes[i])\n",
    "    rwc /= sum(part_sizes.values())\n",
    "    aux_info = {\n",
    "        'pr0': pr0,\n",
    "        'pr1': pr1\n",
    "    }\n",
    "    return rwc, aux_info\n",
    "\n",
    "            "
   ]
  },
  {
   "cell_type": "code",
   "execution_count": 14,
   "metadata": {
    "collapsed": false
   },
   "outputs": [
    {
     "data": {
      "text/plain": [
       "{'name': 'beefban',\n",
       " 'running_time_inc': 8.445266962051392,\n",
       " 'running_time_raw': 10.667040586471558,\n",
       " 'rwc_inc': 0.21943359624186259,\n",
       " 'rwc_raw': 0.20770572191934478}"
      ]
     },
     "execution_count": 14,
     "metadata": {},
     "output_type": "execute_result"
    }
   ],
   "source": [
    "run_job('data/beefban.gpkl')"
   ]
  },
  {
   "cell_type": "code",
   "execution_count": 15,
   "metadata": {
    "collapsed": true
   },
   "outputs": [],
   "source": [
    "# running time and rwc score comparison\n",
    "from util import sample_edges_to_add\n",
    "\n",
    "def run_job(graph_pickle_path, edges_percent=0.1):\n",
    "    g = nx.read_gpickle(graph_pickle_path)\n",
    "\n",
    "    n_edges_to_add = n_edges_to_remove = int(g.number_of_edges() * edges_percent)\n",
    "    edges_to_add = sample_edges_to_add(g, n_edges_to_add)\n",
    "    edges_to_remove = random.sample(g.edges(), n_edges_to_remove)\n",
    "\n",
    "\n",
    "    stat = {\n",
    "        'name': os.path.basename(graph_pickle_path).split('.')[0]\n",
    "    }\n",
    "    cuts, node_cluster_ids = metis.part_graph(g, 2)\n",
    "    rwc, aux_info = controversy_score(g, node_cluster_ids, 0.01)\n",
    "    pr0, pr1 = aux_info['pr0'], aux_info['pr1']\n",
    "\n",
    "\n",
    "    # update partition\n",
    "    cuts, node_cluster_ids = metis.part_graph(g, 2)\n",
    "    node_cluster_ids_inc = update_partition(g, node_cluster_ids=node_cluster_ids,\n",
    "                                        edges_to_add=edges_to_add, edges_to_remove=edges_to_remove,\n",
    "                                        verbose=False)\n",
    "    pr0_new = {n: pr0[n] for n in g.nodes_iter()}\n",
    "    pr1_new = {n: pr1[n] for n in g.nodes_iter()}\n",
    "\n",
    "    s = time()\n",
    "    rwc_inc, aux_info = controversy_score(g,\n",
    "                                          node_cluster_ids_inc,\n",
    "                                          0.01,\n",
    "                                          nstart0=pr0_new, nstart1=pr1_new)\n",
    "\n",
    "    stat['running_time_inc'] = time() - s\n",
    "    stat['rwc_inc'] = rwc_inc\n",
    "\n",
    "    _, node_cluster_ids_raw = metis.part_graph(g, 2)\n",
    "\n",
    "    s = time()\n",
    "    rwc_raw, aux_info = controversy_score(g, \n",
    "                                          node_cluster_ids_raw,\n",
    "                                          0.01,\n",
    "                                          nstart0=None, nstart1=None)\n",
    "    stat['running_time_raw'] = time() - s\n",
    "    stat['rwc_raw'] = rwc_raw\n",
    "    return stat"
   ]
  },
  {
   "cell_type": "code",
   "execution_count": 16,
   "metadata": {
    "collapsed": false
   },
   "outputs": [],
   "source": [
    "from glob import glob\n",
    "from joblib import Parallel, delayed\n",
    "rows = Parallel(n_jobs=8)(delayed(run_job)(path) for path in glob('data/*.gpkl'))\n",
    "# for path in glob('data/*.gpkl'):\n",
    "#     run_job('data/beefban.gpkl')"
   ]
  },
  {
   "cell_type": "code",
   "execution_count": 17,
   "metadata": {
    "collapsed": false
   },
   "outputs": [],
   "source": [
    "df = pd.DataFrame.from_records(rows)"
   ]
  },
  {
   "cell_type": "code",
   "execution_count": 18,
   "metadata": {
    "collapsed": false
   },
   "outputs": [
    {
     "name": "stdout",
     "output_type": "stream",
     "text": [
      "0.994445283425 4.26692170169e-07\n"
     ]
    }
   ],
   "source": [
    "from scipy.stats import pearsonr\n",
    "cc, p = pearsonr(df['rwc_inc'], df['rwc_raw'])\n",
    "print(cc, p)"
   ]
  },
  {
   "cell_type": "code",
   "execution_count": 32,
   "metadata": {
    "collapsed": false
   },
   "outputs": [
    {
     "name": "stdout",
     "output_type": "stream",
     "text": [
      "average running time reduction (percentage): 0.18\n"
     ]
    }
   ],
   "source": [
    "print('average running time reduction (percentage): {:.2f}'.format(((df['running_time_raw'] - df['running_time_inc']) / df['running_time_raw']).mean()))"
   ]
  },
  {
   "cell_type": "code",
   "execution_count": 20,
   "metadata": {
    "collapsed": false
   },
   "outputs": [
    {
     "data": {
      "text/plain": [
       "<matplotlib.text.Text at 0x7fd8256c8f28>"
      ]
     },
     "execution_count": 20,
     "metadata": {},
     "output_type": "execute_result"
    },
    {
     "data": {
      "image/png": "[encoded data removed]",
      "text/plain": [
       "<matplotlib.figure.Figure at 0x7fd82e9bdc88>"
      ]
     },
     "metadata": {},
     "output_type": "display_data"
    }
   ],
   "source": [
    "fig, ax = plt.subplots()\n",
    "ind = np.arange(df.shape[0])\n",
    "width = 0.15\n",
    "ax.bar(ind, df['running_time_inc'], width, color='b')\n",
    "ax.bar(ind+width, df['running_time_raw'], width, color='r')\n",
    "ax.set_xticklabels(df['name'])\n",
    "ax.set_ylabel('running time (seconds)')\n",
    "ax.legend(['incremental', 'from scratch'])\n",
    "fig.set_figwidth(10)\n",
    "ax.set_title('RWC score calculation running time comparison')"
   ]
  }
 ],
 "metadata": {
  "kernelspec": {
   "display_name": "Python 3",
   "language": "python",
   "name": "python3"
  },
  "language_info": {
   "codemirror_mode": {
    "name": "ipython",
    "version": 3
   },
   "file_extension": ".py",
   "mimetype": "text/x-python",
   "name": "python",
   "nbconvert_exporter": "python",
   "pygments_lexer": "ipython3",
   "version": "3.5.2"
  }
 },
 "nbformat": 4,
 "nbformat_minor": 0
}
